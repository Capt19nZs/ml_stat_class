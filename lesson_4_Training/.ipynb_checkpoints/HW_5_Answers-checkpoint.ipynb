{
 "cells": [
  {
   "cell_type": "markdown",
   "metadata": {
    "colab_type": "text",
    "id": "VKFOucyKzOdX"
   },
   "source": [
    "# Problem 1:\n",
    "Set random seed = 42. Generate a sample of 500 observations of the following random variables: <br>\n",
    "$X = 2 + u$, where $u$ is the random float in the range (0,2). <br>\n",
    "$Z = 3 - e$, where $e$ is the random number drawn from the standard normal distribution. <br>\n",
    "$Y = 5 + 2X + Z + o$, where $o$ is the random noise in the range (0,1). <br>\n",
    "Estimate the model: $Y = 5 + 2X + Z + o$\n"
   ]
  },
  {
   "cell_type": "code",
   "execution_count": 9,
   "metadata": {
    "colab": {},
    "colab_type": "code",
    "id": "DTdOjdWczOdZ"
   },
   "outputs": [],
   "source": [
    "import numpy as np\n",
    "np.random.seed(42)\n",
    "#Generate random numbers between 0 and 1. \n",
    "X = 2 + 2 * np.random.rand(500,1)\n",
    "Z = 3 -   np.random.normal(0,1, size=(500,1))\n",
    "Y = 5 + X + Z + np.random.rand(500,1)"
   ]
  },
  {
   "cell_type": "code",
   "execution_count": 9,
   "metadata": {
    "colab": {},
    "colab_type": "code",
    "id": "NGky7JiFBexs"
   },
   "outputs": [],
   "source": []
  },
  {
   "cell_type": "code",
   "execution_count": 10,
   "metadata": {
    "colab": {
     "base_uri": "https://localhost:8080/",
     "height": 34
    },
    "colab_type": "code",
    "id": "wAW2uqvwzOdf",
    "outputId": "aaa832d6-6dee-467a-8e8e-eb06e1870d42"
   },
   "outputs": [
    {
     "name": "stdout",
     "output_type": "stream",
     "text": [
      "[5.44375233] [[1.0213581  0.99963447]]\n"
     ]
    }
   ],
   "source": [
    "X_b = np.c_[X,Z]\n",
    "from sklearn import linear_model\n",
    "lin_reg = linear_model.LinearRegression().fit(X_b, Y)\n",
    "t0, t1 = lin_reg.intercept_, lin_reg.coef_\n",
    "print(t0,t1)"
   ]
  },
  {
   "cell_type": "markdown",
   "metadata": {
    "colab_type": "text",
    "id": "_KzKUZmEzOdj"
   },
   "source": [
    "# Problem 2: \n",
    "Estimate the model from problem 1 Batch Gradient Descent (BGD) with eta = 0.3, 100 iterations, and 300 observations.\n",
    "Set starting theta at random number with mean 3 and sd = 1. <br>\n",
    "Print a graph of MSE and iterations.\n",
    " What do you think is the problem? Is MSE is getting smaller or bigger with each iteration?"
   ]
  },
  {
   "cell_type": "code",
   "execution_count": 11,
   "metadata": {
    "colab": {
     "base_uri": "https://localhost:8080/",
     "height": 293
    },
    "colab_type": "code",
    "id": "q5lK7nOpzOdk",
    "outputId": "5bdb1d10-86db-4854-a3ec-f5195f44306e"
   },
   "outputs": [
    {
     "data": {
      "text/plain": [
       "[<matplotlib.lines.Line2D at 0x7f4b86050160>]"
      ]
     },
     "execution_count": 11,
     "metadata": {
      "tags": []
     },
     "output_type": "execute_result"
    },
    {
     "data": {
      "image/png": "[encoded data removed]",
      "text/plain": [
       "<Figure size 432x288 with 1 Axes>"
      ]
     },
     "metadata": {
      "needs_background": "light",
      "tags": []
     },
     "output_type": "display_data"
    }
   ],
   "source": [
    "from sklearn.metrics import mean_squared_error\n",
    "np.random.seed(42)\n",
    "import matplotlib.pyplot as plt\n",
    "X_b = np.hstack((np.ones([len(X), 1]),X, Z)) \n",
    "eta = 0.3\n",
    "mse_vec = []\n",
    "# number of steps \n",
    "n_iterations = 100\n",
    "m = 500\n",
    "# randomly set the starting point \n",
    "theta = np.random.randn(3,1)\n",
    "# Walk 5000 steps.\n",
    "for iteration in range(n_iterations):\n",
    "  gradients = 2/m * X_b.T.dot(X_b.dot(theta) - Y) \n",
    "  theta = theta - eta * gradients\n",
    "  y_predict = X_b.dot(theta)\n",
    "  errorsq = mean_squared_error(Y, y_predict ) \n",
    "  mse_vec.append(errorsq)\n",
    "\n",
    "mse_np = np.array(mse_vec)\n",
    "plt.plot(mse_np, linewidth=3, label=\"Batch\")"
   ]
  },
  {
   "cell_type": "markdown",
   "metadata": {
    "colab_type": "text",
    "id": "XQGPn6D-zOdn"
   },
   "source": [
    "The fit is getting worse as we iterate."
   ]
  },
  {
   "cell_type": "markdown",
   "metadata": {
    "colab_type": "text",
    "id": "0ovBklhVzOdo"
   },
   "source": [
    "# Problem 3 \n",
    "Let's try two ways to fix the problem. <br>\n",
    "3.A Find smaller eta to reduce MSE. Search from 0.001 to 0.1, using a step of 0.001. What is the optimal eta? What is the MSE with the optimal eta? Plot the graph of eta and MSE around the optimal eta (+5,-5 observations). \n"
   ]
  },
  {
   "cell_type": "code",
   "execution_count": 12,
   "metadata": {
    "colab": {},
    "colab_type": "code",
    "id": "X_4eRlag9KYB"
   },
   "outputs": [],
   "source": [
    "np.random.seed(42)\n",
    "def BatchEta(eta): # number of steps\n",
    "  n_iterations = 100 # number of observations\n",
    "  m = 500\n",
    "# randomly set the starting point\n",
    "  theta = np.random.randn(3,1) # Walk 1000 steps.\n",
    "  for iteration in range(n_iterations):\n",
    "    gradients = 2/m * X_b.T.dot(X_b.dot(theta) - Y) \n",
    "    theta = theta - eta * gradients\n",
    "    y_predict = X_b.dot(theta)\n",
    "    errorsq = mean_squared_error(Y, y_predict)\n",
    "    ret = np.hstack((errorsq, eta))\n",
    "  return ret\n",
    "\n",
    "eta_vec = []\n",
    "for i in np.arange(0.001, 0.1, 0.001):\n",
    "  eta_vec.append(BatchEta(i))"
   ]
  },
  {
   "cell_type": "code",
   "execution_count": 13,
   "metadata": {
    "colab": {
     "base_uri": "https://localhost:8080/",
     "height": 34
    },
    "colab_type": "code",
    "id": "eW4arJKdzOdt",
    "outputId": "60765f3f-15de-408b-d639-400da9d80471"
   },
   "outputs": [
    {
     "name": "stdout",
     "output_type": "stream",
     "text": [
      "Optimal with MSE 0.2508371218400656 and eta 0.046\n"
     ]
    }
   ],
   "source": [
    "eta_np = np.array(eta_vec) \n",
    "minmse = np.amin(eta_np[:,0])\n",
    "index_opt =  np.where(eta_np[:,0]== minmse)[0][0]\n",
    "index_min= eta_np[eta_np[:,0] == minmse][0]\n",
    "print(f\"Optimal with MSE {index_min[0]} and eta {index_min[1]}\" )"
   ]
  },
  {
   "cell_type": "code",
   "execution_count": 14,
   "metadata": {
    "colab": {
     "base_uri": "https://localhost:8080/",
     "height": 279
    },
    "colab_type": "code",
    "id": "xpc9_nniXhrv",
    "outputId": "12fc73b4-90f4-48e2-eb6f-7743f4585053"
   },
   "outputs": [
    {
     "data": {
      "image/png": "[encoded data removed]",
      "text/plain": [
       "<Figure size 432x288 with 2 Axes>"
      ]
     },
     "metadata": {
      "needs_background": "light",
      "tags": []
     },
     "output_type": "display_data"
    }
   ],
   "source": [
    "# grapht 5 obs around optimum\n",
    "range_step = 5\n",
    "plot_coord = eta_np[index_opt-range_step:index_opt+range_step].T\n",
    "y = np.arange(index_opt - range_step, index_opt + range_step, 1)\n",
    "fig, ax1 = plt.subplots()\n",
    "ax2 = ax1.twinx()\n",
    "ax1.plot(y,plot_coord[0], 'g-')\n",
    "ax2.plot(y, plot_coord[1], 'b-')\n",
    "ax1.set_xlabel('steps')\n",
    "ax1.set_ylabel('MSE', color='g')\n",
    "ax2.set_ylabel('eta', color='b')\n",
    "plt.show()"
   ]
  },
  {
   "cell_type": "markdown",
   "metadata": {
    "colab_type": "text",
    "id": "S32XJoT0zOdv"
   },
   "source": [
    "# Problem 4:\n",
    "Let's try to fix the model fit in Problem 2 by using optimal early stopping. At what iteration should we stop to minimize MSE? What is the value of MSE at this step? Compare our MSE with the one from Problem 3.  "
   ]
  },
  {
   "cell_type": "code",
   "execution_count": 16,
   "metadata": {
    "colab": {},
    "colab_type": "code",
    "id": "3ESXhLhMzOdw"
   },
   "outputs": [],
   "source": [
    "np.random.seed(42)\n",
    "X_b = np.hstack((np.ones([len(X), 1]),X, Z)) \n",
    "eta = 0.3\n",
    "mse_vec_iter = []\n",
    "# number of steps \n",
    "n_iterations = 100\n",
    "m = 500\n",
    "theta = np.random.randn(3,1)\n",
    "# randomly set the starting point theta = np.random.randn(3,1)\n",
    "# Walk 100 steps.\n",
    "for iteration in range(n_iterations):\n",
    "  gradients = 2/m * X_b.T.dot(X_b.dot(theta) - Y) \n",
    "  theta = theta - eta * gradients\n",
    "  y_predict = X_b.dot(theta)\n",
    "  errorsq = mean_squared_error(Y, y_predict ) \n",
    "  itererror = np.hstack((errorsq, iteration))\n",
    "  mse_vec_iter.append(itererror)\n",
    "\n",
    "iter_np = np.array(mse_vec_iter) \n",
    "minmse_it = np.amin(iter_np[:,0])\n",
    "index_min_it= iter_np[iter_np[:,0] == minmse_it] \n"
   ]
  },
  {
   "cell_type": "code",
   "execution_count": 17,
   "metadata": {
    "colab": {
     "base_uri": "https://localhost:8080/",
     "height": 34
    },
    "colab_type": "code",
    "id": "O-SYONC8zOdy",
    "outputId": "80a5c850-07cd-4e36-864f-0b5a9f7ea647"
   },
   "outputs": [
    {
     "name": "stdout",
     "output_type": "stream",
     "text": [
      "Optimal Iteration is 0.0 with MSE 10250.096605752131\n"
     ]
    }
   ],
   "source": [
    "print(f\"Optimal Iteration is {index_min_it[0][1]} with MSE {index_min_it[0][0]}\" )"
   ]
  },
  {
   "cell_type": "markdown",
   "metadata": {
    "colab_type": "text",
    "id": "VZP0bwrPzOd1"
   },
   "source": [
    "# Problem 5:\n",
    "\n",
    "To solve this problem we need to learn how to time the how long it takes to run our code:"
   ]
  },
  {
   "cell_type": "code",
   "execution_count": 18,
   "metadata": {
    "colab": {
     "base_uri": "https://localhost:8080/",
     "height": 51
    },
    "colab_type": "code",
    "id": "JZnjulfCzOd2",
    "outputId": "3ad376cf-0a6a-4dde-d554-40215201358e"
   },
   "outputs": [
    {
     "name": "stdout",
     "output_type": "stream",
     "text": [
      "2\n",
      "Our code run for 0.00012040138244628906 sec\n"
     ]
    }
   ],
   "source": [
    "import time # Start time\n",
    "t0 = time.time()\n",
    "# Put your code here for example calculate Mean Sequared Error with 2000 observations \n",
    "x=2\n",
    "print(x)\n",
    "# End time\n",
    "t1 = time.time()\n",
    "# Different is how long it took to run a code in seconds\n",
    "total = t1-t0\n",
    "print(\"Our code run for\",total,\"sec\")"
   ]
  },
  {
   "cell_type": "markdown",
   "metadata": {
    "colab_type": "text",
    "id": "QhSnTaNuzOd4"
   },
   "source": [
    "Create create Y, X, and Z samples from problem 1 with 100,000,000 observations (100 million). Measure how long does it take to estimate linear regression of Y on X and Z using: Stochastic Gradient Descent, Batch Gradient Descent, Linear Regression from sklearn, and Linear regression estimated using matrix multiplication $$\\hat{\\theta} = (\\pmb{X}^T \\cdot \\pmb{X})^{-1} \\cdot \\pmb{X}^T \\cdot \\pmb{y}$$, and Linear regression estimated preudo-inverse. For Batch Gradient Descent use 1000 iterations and eta = 0.01. For Stochastic Gradient Descent use 5 iterations and eta = 0.01. Use SGDRegressior imported from sklearn.model.\n",
    "\n",
    "For each estimation import **MSE** and **time**"
   ]
  },
  {
   "cell_type": "code",
   "execution_count": 19,
   "metadata": {
    "colab": {},
    "colab_type": "code",
    "id": "umHo4KqtzOd4"
   },
   "outputs": [],
   "source": [
    "import numpy as np\n",
    "np.random.seed(42)\n",
    "N = 100000000\n",
    "#Generate random numbers between 0 and 1. \n",
    "X = 2 + 2 * np.random.rand(N,1)\n",
    "Z = 3 -   np.random.normal(0,1, size=(N,1))\n",
    "Y = 5 + X + Z + np.random.rand(N,1)"
   ]
  },
  {
   "cell_type": "code",
   "execution_count": 20,
   "metadata": {
    "colab": {
     "base_uri": "https://localhost:8080/",
     "height": 34
    },
    "colab_type": "code",
    "id": "8qd4avSDzOd6",
    "outputId": "3aca7349-da3a-40d2-c606-75e37a2eb488"
   },
   "outputs": [
    {
     "name": "stdout",
     "output_type": "stream",
     "text": [
      "10.934891700744629 0.08332512770990173\n"
     ]
    }
   ],
   "source": [
    "X_b = np.c_[X,Z]\n",
    "from sklearn.linear_model import LinearRegression \n",
    "lin_reg = LinearRegression()\n",
    "t0 = time.time()\n",
    "lin_reg.fit(X_b, Y)\n",
    "pred_y = lin_reg.predict(X_b)\n",
    "err= mean_squared_error(Y, pred_y  ) \n",
    "t1 = time.time() \n",
    "time_PythonOLS = t1-t0 \n",
    "print(time_PythonOLS, err)"
   ]
  },
  {
   "cell_type": "code",
   "execution_count": 21,
   "metadata": {
    "colab": {
     "base_uri": "https://localhost:8080/",
     "height": 34
    },
    "colab_type": "code",
    "id": "-UadqbuZzOd7",
    "outputId": "ce17a408-f344-4fb1-8c0c-cdb2a6a23ade"
   },
   "outputs": [
    {
     "name": "stdout",
     "output_type": "stream",
     "text": [
      "3.8097610473632812 0.08332512770990165\n"
     ]
    }
   ],
   "source": [
    "np.random.seed(42)\n",
    "Xb = np.hstack((np.ones([len(X), 1]),X, Z))\n",
    "t0 = time.time()\n",
    "theta_best = np.linalg.inv(Xb.T.dot(Xb)).dot(Xb.T).dot(Y) \n",
    "err= mean_squared_error(Y, Xb.dot(theta_best) )\n",
    "t1 = time.time()\n",
    "time_MatrixOLS = t1-t0\n",
    "print(time_MatrixOLS, err )"
   ]
  },
  {
   "cell_type": "code",
   "execution_count": 22,
   "metadata": {
    "colab": {
     "base_uri": "https://localhost:8080/",
     "height": 34
    },
    "colab_type": "code",
    "id": "MOu5Zx59zOd9",
    "outputId": "bd716d89-ae9c-4747-8c88-8dd23b3a3302"
   },
   "outputs": [
    {
     "name": "stdout",
     "output_type": "stream",
     "text": [
      "2.296637535095215 0.08332512770990165\n"
     ]
    }
   ],
   "source": [
    "t0 = time.time()\n",
    "theta_best = np.linalg.pinv(Xb.T.dot(Xb)).dot(Xb.T).dot(Y)\n",
    "t1 = time.time()\n",
    "err=mean_squared_error(Y, Xb.dot(theta_best) )\n",
    "time_MatrixPOLS = t1-t0\n",
    "print(time_MatrixPOLS, err)"
   ]
  },
  {
   "cell_type": "code",
   "execution_count": 23,
   "metadata": {
    "colab": {
     "base_uri": "https://localhost:8080/",
     "height": 34
    },
    "colab_type": "code",
    "id": "Cpd0rakAzOd_",
    "outputId": "8a13b4a9-904a-41b6-ae58-46b560eec0e2"
   },
   "outputs": [
    {
     "name": "stdout",
     "output_type": "stream",
     "text": [
      "1.8320801258087158 0.08332512770990165\n"
     ]
    }
   ],
   "source": [
    "eta = 0.01\n",
    "mse_vec = []\n",
    "# number of steps\n",
    "n_iterations = 1\n",
    "# number of observations\n",
    "m = 10000000\n",
    "# randomly set the starting point \n",
    "theta = np.random.randn(3,1)\n",
    "# Walk 1000 steps.\n",
    "t0 = time.time()\n",
    "for iteration in range(n_iterations):\n",
    "  gradients = 2/m * Xb.T.dot(Xb.dot(theta) - Y) \n",
    "  theta = theta - eta * gradients\n",
    "\n",
    "err=mean_squared_error(Y, Xb.dot(theta_best) )\n",
    "t1 = time.time() \n",
    "time_BGD = t1-t0 \n",
    "print(time_BGD, err)"
   ]
  },
  {
   "cell_type": "code",
   "execution_count": 24,
   "metadata": {
    "colab": {
     "base_uri": "https://localhost:8080/",
     "height": 88
    },
    "colab_type": "code",
    "id": "EfUx-157zOeA",
    "outputId": "5945aacd-a1ab-40a3-934b-123b6b05ed29"
   },
   "outputs": [
    {
     "name": "stderr",
     "output_type": "stream",
     "text": [
      "/usr/local/lib/python3.6/dist-packages/sklearn/linear_model/_stochastic_gradient.py:1187: ConvergenceWarning: Maximum number of iteration reached before convergence. Consider increasing max_iter to improve the fit.\n",
      "  ConvergenceWarning)\n"
     ]
    },
    {
     "name": "stdout",
     "output_type": "stream",
     "text": [
      "129.6814625263214 0.08332512770990173\n"
     ]
    }
   ],
   "source": [
    "from sklearn.linear_model import SGDRegressor\n",
    "sgd_reg = SGDRegressor(max_iter=5, penalty=None, eta0 = 0.01, random_state=42) \n",
    "t0 = time.time()\n",
    "sgd_reg.fit(X_b, Y.ravel())\n",
    "pred_y = lin_reg.predict(X_b)\n",
    "err= mean_squared_error(Y, pred_y  ) \n",
    "t1 = time.time()\n",
    "time_SGD = t1-t0\n",
    "print(time_SGD, err)"
   ]
  },
  {
   "cell_type": "markdown",
   "metadata": {
    "colab_type": "text",
    "id": "bJzlwYlCzOeD"
   },
   "source": [
    "# Problem 6\n",
    "Recreate a X,Y data from problem 1 using 500 observations. Create a 25-degree polynomial for X and scale the data using standard scaler. Estimate the regression model predicting Y via Ridge regression. Calculate MSE (average 'neg_mean_squared_error') using cross-validation with cv = 3. Find optimal alpha by looping from 0.0001 to 1 using step size 0.0001."
   ]
  },
  {
   "cell_type": "code",
   "execution_count": 44,
   "metadata": {
    "colab": {},
    "colab_type": "code",
    "id": "1KDDgdA1zOeD"
   },
   "outputs": [],
   "source": [
    "import numpy as np\n",
    "np.random.seed(42)\n",
    "#Generate random numbers between 0 and 1. \n",
    "X = 2 + 2 * np.random.rand(500,1)\n",
    "Z = 3 -   np.random.normal(0,1, size=(500,1))\n",
    "Y = 5 + X + Z + np.random.rand(500,1)"
   ]
  },
  {
   "cell_type": "code",
   "execution_count": 45,
   "metadata": {
    "colab": {},
    "colab_type": "code",
    "id": "S9eUvNluzOeF"
   },
   "outputs": [],
   "source": [
    "from sklearn.model_selection import cross_val_score \n",
    "from sklearn.preprocessing import StandardScaler \n",
    "from sklearn.pipeline import Pipeline\n",
    "from sklearn.linear_model import Ridge\n",
    "from sklearn.linear_model import Lasso\n",
    "from sklearn.preprocessing import PolynomialFeatures\n",
    "std_scaler = StandardScaler()\n",
    "degree = 25\n",
    "poly_features = PolynomialFeatures(degree=degree, include_bias=False) \n",
    "std_scaler = StandardScaler()\n",
    "lin_reg = LinearRegression()\n",
    "X_poly = poly_features.fit_transform(X)\n",
    "Z_poly = poly_features.fit_transform(Z)\n",
    "Xb_poly = np.c_[X_poly,Z_poly]\n",
    "Xb_poly_std = std_scaler.fit_transform(Xb_poly)"
   ]
  },
  {
   "cell_type": "code",
   "execution_count": 46,
   "metadata": {
    "colab": {},
    "colab_type": "code",
    "id": "NXdGbzlpzOeG"
   },
   "outputs": [],
   "source": [
    "mse_vec = []\n",
    "for alpha in np.arange(0.0001, 1, 0.0001):\n",
    "  cores = -cross_val_score(Ridge(alpha), Xb_poly_std, Y, cv=3)\n",
    "  MSE = np.mean(cores)\n",
    "  step = np.array([alpha, MSE])\n",
    "  mse_vec.append(step)"
   ]
  },
  {
   "cell_type": "code",
   "execution_count": 47,
   "metadata": {
    "colab": {
     "base_uri": "https://localhost:8080/",
     "height": 34
    },
    "colab_type": "code",
    "id": "ojWqgmTwwxKm",
    "outputId": "e8a64ee6-bf78-4e38-e8e1-ed1addbb8f69"
   },
   "outputs": [
    {
     "name": "stdout",
     "output_type": "stream",
     "text": [
      "Optimal Alpha and lowest MSE for Ridge are [[ 0.9999     -0.93470367]]\n"
     ]
    }
   ],
   "source": [
    "mse_vec_np = np.array(mse_vec)\n",
    "minmse = np.amin(mse_vec_np[:,1])\n",
    "index_min= mse_vec_np[mse_vec_np[:,1] == minmse] \n",
    "print(\"Optimal Alpha and lowest MSE for Ridge are\", index_min )"
   ]
  },
  {
   "cell_type": "markdown",
   "metadata": {
    "colab_type": "text",
    "id": "GCFfHfwPzOeI"
   },
   "source": [
    "# Problem 7: \n",
    "Repeat the problem 6 using Lasso regression. In addition to MSE and alpha, report how many coefficients are equal to zero in the optimal model.    "
   ]
  },
  {
   "cell_type": "code",
   "execution_count": 43,
   "metadata": {
    "colab": {
     "base_uri": "https://localhost:8080/",
     "height": 717
    },
    "colab_type": "code",
    "id": "mB5U8ReCzOeI",
    "outputId": "d3800e0c-6ecf-4966-8dc9-d7987ff3ff2b"
   },
   "outputs": [
    {
     "name": "stderr",
     "output_type": "stream",
     "text": [
      "/usr/local/lib/python3.6/dist-packages/sklearn/linear_model/_coordinate_descent.py:476: ConvergenceWarning: Objective did not converge. You might want to increase the number of iterations. Duality gap: 5.057896248200942, tolerance: 0.047565265906905636\n",
      "  positive)\n",
      "/usr/local/lib/python3.6/dist-packages/sklearn/linear_model/_coordinate_descent.py:476: ConvergenceWarning: Objective did not converge. You might want to increase the number of iterations. Duality gap: 0.8923103905876282, tolerance: 0.04574723516779077\n",
      "  positive)\n",
      "/usr/local/lib/python3.6/dist-packages/sklearn/linear_model/_coordinate_descent.py:476: ConvergenceWarning: Objective did not converge. You might want to increase the number of iterations. Duality gap: 5.1137204051414, tolerance: 0.04491846169711018\n",
      "  positive)\n",
      "/usr/local/lib/python3.6/dist-packages/sklearn/linear_model/_coordinate_descent.py:476: ConvergenceWarning: Objective did not converge. You might want to increase the number of iterations. Duality gap: 1.725677330537149, tolerance: 0.047565265906905636\n",
      "  positive)\n",
      "/usr/local/lib/python3.6/dist-packages/sklearn/linear_model/_coordinate_descent.py:476: ConvergenceWarning: Objective did not converge. You might want to increase the number of iterations. Duality gap: 0.1361794125491187, tolerance: 0.04574723516779077\n",
      "  positive)\n",
      "/usr/local/lib/python3.6/dist-packages/sklearn/linear_model/_coordinate_descent.py:476: ConvergenceWarning: Objective did not converge. You might want to increase the number of iterations. Duality gap: 1.9756446556843024, tolerance: 0.04491846169711018\n",
      "  positive)\n",
      "/usr/local/lib/python3.6/dist-packages/sklearn/linear_model/_coordinate_descent.py:476: ConvergenceWarning: Objective did not converge. You might want to increase the number of iterations. Duality gap: 0.65253257146896, tolerance: 0.047565265906905636\n",
      "  positive)\n",
      "/usr/local/lib/python3.6/dist-packages/sklearn/linear_model/_coordinate_descent.py:476: ConvergenceWarning: Objective did not converge. You might want to increase the number of iterations. Duality gap: 0.1611481772006016, tolerance: 0.04574723516779077\n",
      "  positive)\n",
      "/usr/local/lib/python3.6/dist-packages/sklearn/linear_model/_coordinate_descent.py:476: ConvergenceWarning: Objective did not converge. You might want to increase the number of iterations. Duality gap: 0.8657091584922227, tolerance: 0.04491846169711018\n",
      "  positive)\n",
      "/usr/local/lib/python3.6/dist-packages/sklearn/linear_model/_coordinate_descent.py:476: ConvergenceWarning: Objective did not converge. You might want to increase the number of iterations. Duality gap: 0.22248038774936774, tolerance: 0.047565265906905636\n",
      "  positive)\n",
      "/usr/local/lib/python3.6/dist-packages/sklearn/linear_model/_coordinate_descent.py:476: ConvergenceWarning: Objective did not converge. You might want to increase the number of iterations. Duality gap: 0.43331955335468564, tolerance: 0.04491846169711018\n",
      "  positive)\n",
      "/usr/local/lib/python3.6/dist-packages/sklearn/linear_model/_coordinate_descent.py:476: ConvergenceWarning: Objective did not converge. You might want to increase the number of iterations. Duality gap: 0.08582079838767953, tolerance: 0.047565265906905636\n",
      "  positive)\n",
      "/usr/local/lib/python3.6/dist-packages/sklearn/linear_model/_coordinate_descent.py:476: ConvergenceWarning: Objective did not converge. You might want to increase the number of iterations. Duality gap: 0.23145118602735337, tolerance: 0.04491846169711018\n",
      "  positive)\n",
      "/usr/local/lib/python3.6/dist-packages/sklearn/linear_model/_coordinate_descent.py:476: ConvergenceWarning: Objective did not converge. You might want to increase the number of iterations. Duality gap: 0.1462162801696536, tolerance: 0.04491846169711018\n",
      "  positive)\n",
      "/usr/local/lib/python3.6/dist-packages/sklearn/linear_model/_coordinate_descent.py:476: ConvergenceWarning: Objective did not converge. You might want to increase the number of iterations. Duality gap: 0.09385758046515846, tolerance: 0.04491846169711018\n",
      "  positive)\n",
      "/usr/local/lib/python3.6/dist-packages/sklearn/linear_model/_coordinate_descent.py:476: ConvergenceWarning: Objective did not converge. You might want to increase the number of iterations. Duality gap: 0.09234411997821468, tolerance: 0.04491846169711018\n",
      "  positive)\n",
      "/usr/local/lib/python3.6/dist-packages/sklearn/linear_model/_coordinate_descent.py:476: ConvergenceWarning: Objective did not converge. You might want to increase the number of iterations. Duality gap: 0.09451077908604333, tolerance: 0.04491846169711018\n",
      "  positive)\n",
      "/usr/local/lib/python3.6/dist-packages/sklearn/linear_model/_coordinate_descent.py:476: ConvergenceWarning: Objective did not converge. You might want to increase the number of iterations. Duality gap: 0.09654116485161524, tolerance: 0.04491846169711018\n",
      "  positive)\n",
      "/usr/local/lib/python3.6/dist-packages/sklearn/linear_model/_coordinate_descent.py:476: ConvergenceWarning: Objective did not converge. You might want to increase the number of iterations. Duality gap: 0.048581464772691874, tolerance: 0.04491846169711018\n",
      "  positive)\n",
      "/usr/local/lib/python3.6/dist-packages/sklearn/linear_model/_coordinate_descent.py:476: ConvergenceWarning: Objective did not converge. You might want to increase the number of iterations. Duality gap: 0.047298020427643195, tolerance: 0.04491846169711018\n",
      "  positive)\n"
     ]
    }
   ],
   "source": [
    "mse_vec_Lasso = []\n",
    "for alpha in np.arange(0.0001, 1, 0.0001):\n",
    "  cores = -cross_val_score(Lasso(alpha), Xb_poly_std, Y, cv=3) \n",
    "  MSE = np.mean(cores)\n",
    "  step = np.array([alpha, MSE])\n",
    "  mse_vec_Lasso.append(step)"
   ]
  },
  {
   "cell_type": "code",
   "execution_count": 49,
   "metadata": {
    "colab": {
     "base_uri": "https://localhost:8080/",
     "height": 34
    },
    "colab_type": "code",
    "id": "AUM-0TyWzOeJ",
    "outputId": "0d3cc85a-6448-4b63-87fe-c64c4cfa6bde"
   },
   "outputs": [
    {
     "name": "stdout",
     "output_type": "stream",
     "text": [
      "Optimal Alpha and lowest MSE for Lasso are [[ 0.0082     -0.93789776]]\n"
     ]
    }
   ],
   "source": [
    "mse_vec_np = np.array(mse_vec_Lasso)\n",
    "minmse = np.amin(mse_vec_np[:,1])\n",
    "index_min= mse_vec_np[mse_vec_np[:,1] == minmse] \n",
    "print(\"Optimal Alpha and lowest MSE for Lasso are\", index_min )"
   ]
  },
  {
   "cell_type": "code",
   "execution_count": 53,
   "metadata": {
    "colab": {
     "base_uri": "https://localhost:8080/",
     "height": 34
    },
    "colab_type": "code",
    "id": "5CxkVLCIzOeK",
    "outputId": "2ffd7954-46ff-4f54-cba1-357fc9acf835"
   },
   "outputs": [
    {
     "name": "stdout",
     "output_type": "stream",
     "text": [
      "There are  44 zero coefficients\n"
     ]
    }
   ],
   "source": [
    "lassopt = Lasso(index_min[0][0]).fit(Xb_poly_std,Y)\n",
    "y = lassopt.coef_\n",
    "zeros = np.count_nonzero(y == 0)\n",
    "print(\"There are \", zeros, \"zero coefficients\")"
   ]
  },
  {
   "cell_type": "code",
   "execution_count": null,
   "metadata": {
    "colab": {},
    "colab_type": "code",
    "id": "AQp67KD3zOeM"
   },
   "outputs": [],
   "source": []
  },
  {
   "cell_type": "code",
   "execution_count": null,
   "metadata": {
    "colab": {},
    "colab_type": "code",
    "id": "rp-lsnenzOeO"
   },
   "outputs": [],
   "source": []
  }
 ],
 "metadata": {
  "colab": {
   "collapsed_sections": [],
   "name": "HW 5 Answers.ipynb",
   "provenance": []
  },
  "kernelspec": {
   "display_name": "Python 3",
   "language": "python",
   "name": "python3"
  },
  "language_info": {
   "codemirror_mode": {
    "name": "ipython",
    "version": 3
   },
   "file_extension": ".py",
   "mimetype": "text/x-python",
   "name": "python",
   "nbconvert_exporter": "python",
   "pygments_lexer": "ipython3",
   "version": "3.8.3"
  }
 },
 "nbformat": 4,
 "nbformat_minor": 1
}
