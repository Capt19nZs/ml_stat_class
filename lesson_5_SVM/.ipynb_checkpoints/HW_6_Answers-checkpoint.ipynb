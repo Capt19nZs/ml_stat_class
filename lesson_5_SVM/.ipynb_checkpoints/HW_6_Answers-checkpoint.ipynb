{
 "cells": [
  {
   "cell_type": "markdown",
   "metadata": {
    "colab_type": "text",
    "id": "sSFy15qVYy2D"
   },
   "source": [
    "# Problem 1 \n",
    "Load Iris data. Estimate the SVM classifier of three types of Iris using hard margin SVM (C = Inf) cross-validation = 3. Use the code below.For fit measure use default cross-validation score -- share correct predictions. Can you estimate the model? If you cannot why?"
   ]
  },
  {
   "cell_type": "code",
   "execution_count": 4,
   "metadata": {
    "colab": {},
    "colab_type": "code",
    "id": "_oqUje5DYy2F"
   },
   "outputs": [],
   "source": [
    "# Common imports\n",
    "import numpy as np\n",
    "import os\n",
    "# to make this notebook's output stable across runs\n",
    "np.random.seed(42)\n",
    "# To plot pretty figures\n",
    "%matplotlib inline\n",
    "import matplotlib\n",
    "import matplotlib.pyplot as plt\n",
    "plt.rcParams['axes.labelsize'] = 14\n",
    "plt.rcParams['xtick.labelsize'] = 12\n",
    "plt.rcParams['ytick.labelsize'] = 12"
   ]
  },
  {
   "cell_type": "code",
   "execution_count": 5,
   "metadata": {
    "colab": {},
    "colab_type": "code",
    "id": "kbU3fTKxYy2M"
   },
   "outputs": [],
   "source": [
    "from sklearn.svm import SVC\n",
    "from sklearn.model_selection import cross_val_score\n",
    "# import datasets\n",
    "from sklearn import datasets\n",
    "iris = datasets.load_iris()\n",
    "X = iris[\"data\"][:,(1,2)]  # Use all X\n",
    "y = iris[\"target\"]\n",
    "virginica_or_versicolor = (y == 2) | (y == 1)\n",
    "X = X[virginica_or_versicolor]\n",
    "y = y[virginica_or_versicolor]"
   ]
  },
  {
   "cell_type": "code",
   "execution_count": null,
   "metadata": {
    "colab": {},
    "colab_type": "code",
    "id": "WThAGHS6Yy2Q"
   },
   "outputs": [],
   "source": [
    "svm_clf = SVC(kernel=\"linear\", C=float(\"inf\"))\n",
    "scores = cross_val_score(svm_clf, X, y, cv=5)\n",
    "np.mean(scores)"
   ]
  },
  {
   "cell_type": "markdown",
   "metadata": {
    "colab_type": "text",
    "id": "rAVNAg6nYy2S"
   },
   "source": [
    "Answer: Cannot estimate the model, because C=Inf tries to estimate a model with no margin, which cannot be fit in the data with prediction errors."
   ]
  },
  {
   "cell_type": "markdown",
   "metadata": {
    "colab_type": "text",
    "id": "xAKAY7w0Yy2T"
   },
   "source": [
    "# Problem 2\n",
    "Run the same model with a soft margin: C = 1 and plot decision boundary. Don't forget to use \n",
    "plt.plot(X[:, 0][y==2], X[:, 1][y==2], \"ms\") when plotting instead of plt.plot(X[:, 0][y==0], X[:, 1][y==0], \"ms\"). Describe the results in Problem 2 and 1. Why do we get these results?"
   ]
  },
  {
   "cell_type": "code",
   "execution_count": 6,
   "metadata": {
    "colab": {
     "base_uri": "https://localhost:8080/",
     "height": 34
    },
    "colab_type": "code",
    "id": "qgUtPCG7Yy2T",
    "outputId": "7c4f0720-7714-4585-9920-1547b06254d5"
   },
   "outputs": [
    {
     "data": {
      "text/plain": [
       "0.93"
      ]
     },
     "execution_count": 6,
     "metadata": {
      "tags": []
     },
     "output_type": "execute_result"
    }
   ],
   "source": [
    "from sklearn.model_selection import cross_val_score\n",
    "svm_clf = SVC(kernel=\"linear\", C=1)\n",
    "scores = cross_val_score(svm_clf, X, y, cv=5)\n",
    "np.mean(scores)"
   ]
  },
  {
   "cell_type": "code",
   "execution_count": 7,
   "metadata": {
    "colab": {
     "base_uri": "https://localhost:8080/",
     "height": 283
    },
    "colab_type": "code",
    "id": "Xzsu8RKbYy2X",
    "outputId": "5397f333-624d-4305-d610-0df9e99680e6"
   },
   "outputs": [
    {
     "data": {
      "text/plain": [
       "Text(0.5, 1.0, 'Unscaled')"
      ]
     },
     "execution_count": 7,
     "metadata": {
      "tags": []
     },
     "output_type": "execute_result"
    },
    {
     "data": {
      "image/png": "[encoded data removed]",
      "text/plain": [
       "<Figure size 864x230.4 with 1 Axes>"
      ]
     },
     "metadata": {
      "needs_background": "light",
      "tags": []
     },
     "output_type": "display_data"
    }
   ],
   "source": [
    "svm_clf.fit(X,y)\n",
    "def plot_svc_decision_boundary(svm_clf, xmin, xmax):\n",
    "    # Get plot and intercept\n",
    "    w = svm_clf.coef_[0]\n",
    "    b = svm_clf.intercept_[0]\n",
    "\n",
    "    # At the decision boundary, w0*x0 + w1*x1 + b = 0\n",
    "    # we predict positive or negative. The formula for the line is:\n",
    "    # => x1 = -w0/w1 * x0 - b/w1\n",
    "    x0 = np.linspace(xmin, xmax, 200)\n",
    "    # line as a function of x0\n",
    "    decision_boundary = -w[0]/w[1] * x0 - b/w[1]\n",
    "    margin = 1/w[1]# add margin\n",
    "    gutter_up = decision_boundary + margin\n",
    "    gutter_down = decision_boundary - margin\n",
    "    \n",
    "    svs = svm_clf.support_vectors_\n",
    "    plt.scatter(svs[:, 0], svs[:, 1], s=180, facecolors='#FFAAAA')\n",
    "    plt.plot(x0, decision_boundary, \"k-\", linewidth=2)\n",
    "    plt.plot(x0, gutter_up, \"k--\", linewidth=2)\n",
    "    plt.plot(x0, gutter_down, \"k--\", linewidth=2)\n",
    "\n",
    "plt.figure(figsize=(12,3.2))\n",
    "plt.subplot(121)\n",
    "plt.plot(X[:, 0][y==1], X[:, 1][y==1], \"bo\")\n",
    "plt.plot(X[:, 0][y==2], X[:, 1][y==2], \"ms\")\n",
    "plot_svc_decision_boundary(svm_clf, 0, 6)\n",
    "plt.xlabel(\"$x_0$\", fontsize=20)\n",
    "plt.ylabel(\"$x_1$  \", fontsize=20, rotation=0)\n",
    "plt.title(\"Unscaled\", fontsize=16)\n"
   ]
  },
  {
   "cell_type": "markdown",
   "metadata": {
    "colab_type": "text",
    "id": "dmt7OBpYYy2a"
   },
   "source": [
    "# Problem 3: \n",
    "Reestimate model in problem 2 with a) optimal C parameter. Loop through a vector 1000 random numbers from .05 to 5.  b) scaled data and C = 1. Which produces better cross-validation score?\n",
    "\n",
    "If more than one parameter produces the highest cross validation score choose the smallest C that maximuzes cross-validation"
   ]
  },
  {
   "cell_type": "code",
   "execution_count": 32,
   "metadata": {
    "colab": {},
    "colab_type": "code",
    "id": "0q7DAPdNYy2a"
   },
   "outputs": [],
   "source": [
    "np.random.seed(42)\n",
    "cvec = np.random.uniform(0.05,5,1000)"
   ]
  },
  {
   "cell_type": "code",
   "execution_count": 33,
   "metadata": {
    "colab": {},
    "colab_type": "code",
    "id": "bCOEDhINYy2c"
   },
   "outputs": [],
   "source": [
    "crosvalcev = []\n",
    "for x in range(0, 1000):\n",
    "    v1 = []\n",
    "    locC = cvec[x]\n",
    "    svm_clf = SVC(kernel=\"linear\",  C=locC)\n",
    "    scores = cross_val_score(svm_clf, X, y, cv=5)\n",
    "    v1 = np.mean(scores)\n",
    "    print\n",
    "    v2 =  np.hstack((float(v1),locC))\n",
    "    crosvalcev.append(v2)\n"
   ]
  },
  {
   "cell_type": "code",
   "execution_count": 34,
   "metadata": {
    "colab": {
     "base_uri": "https://localhost:8080/",
     "height": 34
    },
    "colab_type": "code",
    "id": "M1aBOIqgYy2f",
    "outputId": "66475a42-7d2e-4cb4-9b52-cb98bd847e63"
   },
   "outputs": [
    {
     "name": "stdout",
     "output_type": "stream",
     "text": [
      "Smallest optimal C is 0.07292851387278415 and highest score are 0.93\n"
     ]
    }
   ],
   "source": [
    "crosvalcev = np.array(crosvalcev)\n",
    "maxsc = np.amax(crosvalcev[:,0])    \n",
    "index_maxsc= crosvalcev[crosvalcev[:,0] == maxsc]\n",
    "print(f\"Smallest optimal C is {np.amin(index_maxsc[:,1])} and highest score are {index_maxsc[0][0]}\")"
   ]
  },
  {
   "cell_type": "code",
   "execution_count": 30,
   "metadata": {
    "colab": {},
    "colab_type": "code",
    "id": "L8kPWbYtYy2i"
   },
   "outputs": [],
   "source": [
    "\n"
   ]
  },
  {
   "cell_type": "code",
   "execution_count": 35,
   "metadata": {
    "colab": {
     "base_uri": "https://localhost:8080/",
     "height": 34
    },
    "colab_type": "code",
    "id": "eBJH2PHcYy2k",
    "outputId": "cc44a8d6-04d6-4f24-8dc4-207d7a9b894c"
   },
   "outputs": [
    {
     "data": {
      "text/plain": [
       "0.93"
      ]
     },
     "execution_count": 35,
     "metadata": {
      "tags": []
     },
     "output_type": "execute_result"
    }
   ],
   "source": [
    "from sklearn.preprocessing import StandardScaler\n",
    "scaler = StandardScaler()\n",
    "X_sc = scaler.fit_transform(X)\n",
    "svm_clf = SVC(kernel=\"linear\", C=1)\n",
    "scores = cross_val_score(svm_clf, X_sc, y, cv=5)\n",
    "np.mean(scores)"
   ]
  },
  {
   "cell_type": "code",
   "execution_count": 36,
   "metadata": {
    "colab": {},
    "colab_type": "code",
    "id": "0ZPp4r_7Yy2m"
   },
   "outputs": [],
   "source": [
    "# Answer: the validation scores are the same"
   ]
  },
  {
   "cell_type": "markdown",
   "metadata": {
    "colab_type": "text",
    "id": "ooI5kMl6Yy2o"
   },
   "source": [
    "# Problem 4 \n",
    "Use full data for Irises. Use scaled data created below. Estimate baseline SVM model with C = 1, calculate cross-validation score with cv =5.  The estimate the same model with 10th degree polynomial of X. Report averages for both models."
   ]
  },
  {
   "cell_type": "code",
   "execution_count": 60,
   "metadata": {
    "colab": {},
    "colab_type": "code",
    "id": "4biWwU_cYy2o"
   },
   "outputs": [],
   "source": [
    "from sklearn.svm import SVC\n",
    "# import datasets\n",
    "from sklearn.preprocessing import PolynomialFeatures\n",
    "from sklearn import datasets\n",
    "iris = datasets.load_iris()\n",
    "X = iris[\"data\"]\n",
    "y = iris[\"target\"]\n",
    "X_sc = scaler.fit_transform(X)\n",
    "poly = PolynomialFeatures(10)\n",
    "X2 = poly.fit_transform(X)\n",
    "X_poly = scaler.fit_transform(X2)"
   ]
  },
  {
   "cell_type": "code",
   "execution_count": 61,
   "metadata": {
    "colab": {
     "base_uri": "https://localhost:8080/",
     "height": 34
    },
    "colab_type": "code",
    "id": "4Z9OvnshYy2q",
    "outputId": "216365c4-3427-4892-87dd-2b7a54f65622"
   },
   "outputs": [
    {
     "name": "stdout",
     "output_type": "stream",
     "text": [
      "Linear model without polinomial score: 0.9666666666666668\n"
     ]
    }
   ],
   "source": [
    "svm_clf = SVC(kernel=\"linear\", C=1)\n",
    "scores = cross_val_score(svm_clf, X_sc, y, cv=5)\n",
    "sc = np.mean(scores)\n",
    "print(\"Linear model without polinomial score:\",sc )"
   ]
  },
  {
   "cell_type": "code",
   "execution_count": 62,
   "metadata": {
    "colab": {
     "base_uri": "https://localhost:8080/",
     "height": 34
    },
    "colab_type": "code",
    "id": "tikJa6t8Yy2r",
    "outputId": "663cfb3f-5960-4a6d-ff58-1b86f718d344"
   },
   "outputs": [
    {
     "name": "stdout",
     "output_type": "stream",
     "text": [
      "Linear model with polinomial score: 0.96\n"
     ]
    }
   ],
   "source": [
    "svm_clf = SVC(kernel=\"linear\", C=1)\n",
    "scores = cross_val_score(svm_clf, X_poly, y, cv=5)\n",
    "sc = np.mean(scores)\n",
    "print(\"Linear model with polinomial score:\",sc )"
   ]
  },
  {
   "cell_type": "markdown",
   "metadata": {
    "colab_type": "text",
    "id": "dveL6TXmYy2t"
   },
   "source": [
    "# Problem 5 \n",
    "Create a datasets of moons below. Estimate the SVM model using 10 degress polynomial and C =1. Create polynomials in two ways: a) use PolynomialFeatures(degree=10), b) use kernel SVC(kernel=\"poly\", degree=10, coef0=1, C=1). Use cross-validation cv =5 and report average score. Measure the time of using a kernel relatively to the polynomial features. "
   ]
  },
  {
   "cell_type": "code",
   "execution_count": 71,
   "metadata": {
    "colab": {},
    "colab_type": "code",
    "id": "yrRfspavYy2t"
   },
   "outputs": [],
   "source": [
    "from sklearn.datasets import make_moons\n",
    "X, y = make_moons(n_samples=10000, noise=0.28, random_state=42)"
   ]
  },
  {
   "cell_type": "code",
   "execution_count": 72,
   "metadata": {
    "colab": {
     "base_uri": "https://localhost:8080/",
     "height": 296
    },
    "colab_type": "code",
    "id": "RXoNUmHWYy2u",
    "outputId": "12d0dadc-2552-4776-9a40-6b9ddd0d9c99"
   },
   "outputs": [
    {
     "data": {
      "image/png": "[encoded data removed]",
      "text/plain": [
       "<Figure size 432x288 with 1 Axes>"
      ]
     },
     "metadata": {
      "needs_background": "light",
      "tags": []
     },
     "output_type": "display_data"
    }
   ],
   "source": [
    "def plot_dataset(X, y, axes):\n",
    "    plt.plot(X[:, 0][y==0], X[:, 1][y==0], \"bs\")\n",
    "    plt.plot(X[:, 0][y==1], X[:, 1][y==1], \"g^\")\n",
    "    plt.axis(axes)\n",
    "    plt.grid(True, which='both')\n",
    "    plt.xlabel(r\"$x_1$\", fontsize=20)\n",
    "    plt.ylabel(r\"$x_2$\", fontsize=20, rotation=0)\n",
    "\n",
    "plot_dataset(X, y, [-2, 3, -2, 2])\n",
    "plt.show()"
   ]
  },
  {
   "cell_type": "code",
   "execution_count": 73,
   "metadata": {
    "colab": {},
    "colab_type": "code",
    "id": "TwR4FYEoYy2v"
   },
   "outputs": [],
   "source": [
    "from sklearn.svm import SVC\n",
    "# import datasets\n",
    "from sklearn.preprocessing import PolynomialFeatures\n",
    "from sklearn import datasets"
   ]
  },
  {
   "cell_type": "code",
   "execution_count": 65,
   "metadata": {
    "colab": {},
    "colab_type": "code",
    "id": "rwAu5eklYy2x"
   },
   "outputs": [],
   "source": [
    "import time"
   ]
  },
  {
   "cell_type": "code",
   "execution_count": 85,
   "metadata": {
    "colab": {
     "base_uri": "https://localhost:8080/",
     "height": 51
    },
    "colab_type": "code",
    "id": "HVhPVRFwYy2y",
    "outputId": "ac31820e-4602-4088-a61c-d20669fae794"
   },
   "outputs": [
    {
     "name": "stdout",
     "output_type": "stream",
     "text": [
      "average score is 0.9267\n",
      "Time to complete manual polynomial features is 2.684067964553833\n"
     ]
    }
   ],
   "source": [
    "svm_clf = SVC(kernel=\"linear\", C=1)\n",
    "t1 = time.time()\n",
    "X_sc = scaler.fit_transform(X)\n",
    "poly = PolynomialFeatures(4)\n",
    "X2 = poly.fit_transform(X)\n",
    "X_poly = scaler.fit_transform(X2)\n",
    "scores = cross_val_score(svm_clf, X_poly, y, cv=5)\n",
    "score_m = np.mean(scores)\n",
    "print(\"average score is\", score_m)\n",
    "t2 = time.time()\n",
    "t_sc = t2 - t1\n",
    "print(\"Time to complete manual polynomial features is\", t_sc )"
   ]
  },
  {
   "cell_type": "code",
   "execution_count": 78,
   "metadata": {
    "colab": {
     "base_uri": "https://localhost:8080/",
     "height": 51
    },
    "colab_type": "code",
    "id": "tflmLMlhYy2z",
    "outputId": "7deab249-5b27-4576-b201-c0116d309b03"
   },
   "outputs": [
    {
     "name": "stdout",
     "output_type": "stream",
     "text": [
      "average score is 0.9275\n",
      "Time to complete manual polynomial features is 2.3462941646575928\n"
     ]
    }
   ],
   "source": [
    "svm_ker = SVC(kernel=\"poly\", degree=4, coef0=1, C=1, random_state = 42)\n",
    "t1 = time.time()\n",
    "scores = cross_val_score(svm_ker, X, y, cv=5)\n",
    "score_m = np.mean(scores)\n",
    "print(\"average score is\", score_m)\n",
    "t2 = time.time()\n",
    "t_sc = t2 - t1\n",
    "print(\"Time to complete manual polynomial features is\", t_sc )"
   ]
  },
  {
   "cell_type": "markdown",
   "metadata": {
    "colab_type": "text",
    "id": "mynneLtbYy21"
   },
   "source": [
    "# Problem 6\n",
    "Run gaussian Kernel RBF with 4 degrees. \n",
    "Predict Y using cross-validation cv=5 and C =1. Use scaled X data. Report average score and time for each estimation. Is it higher than the 4-degree polinomial?"
   ]
  },
  {
   "cell_type": "code",
   "execution_count": 82,
   "metadata": {
    "colab": {},
    "colab_type": "code",
    "id": "uB4Jxm9mYy21"
   },
   "outputs": [],
   "source": [
    "np.random.seed(42)\n",
    "svm_rbf = SVC(kernel=\"rbf\", degree = 4, gamma=1, C=1, random_state = 42)\n",
    "svm_sig = SVC(kernel=\"sigmoid\", degree = 4, gamma=1, C=1, random_state = 42)"
   ]
  },
  {
   "cell_type": "code",
   "execution_count": 83,
   "metadata": {
    "colab": {
     "base_uri": "https://localhost:8080/",
     "height": 51
    },
    "colab_type": "code",
    "id": "cq651vASYy22",
    "outputId": "97a91325-5524-44b1-e278-f35e009ac595"
   },
   "outputs": [
    {
     "name": "stdout",
     "output_type": "stream",
     "text": [
      "Average score with 10 degree rbf kernel 0.9277000000000001\n",
      "Time: 3.1199581623077393\n"
     ]
    }
   ],
   "source": [
    "t1 = time.time()\n",
    "scores = cross_val_score(svm_rbf, X_sc, y, cv=5)\n",
    "score_m = np.mean(scores)\n",
    "print(\"Average score with 10 degree rbf kernel\", score_m)\n",
    "print(\"Time:\", time.time() - t1)"
   ]
  },
  {
   "cell_type": "code",
   "execution_count": 81,
   "metadata": {
    "colab": {
     "base_uri": "https://localhost:8080/",
     "height": 51
    },
    "colab_type": "code",
    "id": "IADqrF-cYy23",
    "outputId": "1a737045-de07-48b9-e7d1-cb2e93d1dce2"
   },
   "outputs": [
    {
     "name": "stdout",
     "output_type": "stream",
     "text": [
      "Average score with 10 degree rbf kernel 0.6148\n",
      "Time: 9.945612668991089\n"
     ]
    }
   ],
   "source": [
    "t1 = time.time()\n",
    "scores = cross_val_score(svm_sig, X_sc, y, cv=5)\n",
    "score_m = np.mean(scores)\n",
    "print(\"Average score with 10 degree rbf kernel\", score_m)\n",
    "print(\"Time:\", time.time() - t1)"
   ]
  },
  {
   "cell_type": "code",
   "execution_count": null,
   "metadata": {
    "colab": {},
    "colab_type": "code",
    "id": "CnSAhjbMo6oU"
   },
   "outputs": [],
   "source": []
  }
 ],
 "metadata": {
  "colab": {
   "name": "HW 6 Answers.ipynb",
   "provenance": []
  },
  "kernelspec": {
   "display_name": "Python 3",
   "language": "python",
   "name": "python3"
  },
  "language_info": {
   "codemirror_mode": {
    "name": "ipython",
    "version": 3
   },
   "file_extension": ".py",
   "mimetype": "text/x-python",
   "name": "python",
   "nbconvert_exporter": "python",
   "pygments_lexer": "ipython3",
   "version": "3.8.3"
  }
 },
 "nbformat": 4,
 "nbformat_minor": 1
}
