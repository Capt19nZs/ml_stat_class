{
 "cells": [
  {
   "cell_type": "markdown",
   "metadata": {
    "colab_type": "text",
    "id": "PdBkFsM-e0_i"
   },
   "source": [
    "# Problem 1\n",
    "Load mnist digits data set. Estimate base line prediction accuracy with SDGClassifier (20 iteractions), RandomForest(max_depth=3) and RandomForest(max_depth=15). Train model on training data and predict accuracy using testing data. Record the amount of time needed to estimate each. "
   ]
  },
  {
   "cell_type": "code",
   "execution_count": 2,
   "metadata": {
    "colab": {},
    "colab_type": "code",
    "id": "OKrZMjW4e0_k"
   },
   "outputs": [],
   "source": [
    "# Python ≥3.5 is required\n",
    "import sys\n",
    "assert sys.version_info >= (3, 5)\n",
    "\n",
    "# Scikit-Learn ≥0.20 is required\n",
    "import sklearn\n",
    "assert sklearn.__version__ >= \"0.20\"\n",
    "\n",
    "# Common imports\n",
    "import numpy as np\n",
    "import os\n",
    "\n",
    "\n",
    "from sklearn.datasets import fetch_openml\n",
    "mnist = fetch_openml('mnist_784', version=1)\n",
    "mnist.keys()\n",
    "from sklearn.model_selection import train_test_split\n",
    "X = mnist[\"data\"]\n",
    "y = mnist[\"target\"]\n",
    "X_train, X_test, y_train, y_test = train_test_split(X, y, random_state=42)"
   ]
  },
  {
   "cell_type": "code",
   "execution_count": 12,
   "metadata": {
    "colab": {
     "base_uri": "https://localhost:8080/",
     "height": 105
    },
    "colab_type": "code",
    "id": "rFPsSZq_e0_r",
    "outputId": "2836e15b-08e4-43f5-c969-99686ef488c8"
   },
   "outputs": [
    {
     "name": "stdout",
     "output_type": "stream",
     "text": [
      "Accuracy score in baseline SGD model is 0.8767428571428572\n",
      "The procedure took 17.249995231628418 seconds\n"
     ]
    },
    {
     "name": "stderr",
     "output_type": "stream",
     "text": [
      "/usr/local/lib/python3.6/dist-packages/sklearn/linear_model/_stochastic_gradient.py:557: ConvergenceWarning: Maximum number of iteration reached before convergence. Consider increasing max_iter to improve the fit.\n",
      "  ConvergenceWarning)\n"
     ]
    }
   ],
   "source": [
    "from sklearn import linear_model\n",
    "from sklearn.metrics import accuracy_score\n",
    "clf = linear_model.SGDClassifier(max_iter=20)\n",
    "import time\n",
    "t1 = time.time()\n",
    "clf.fit(X_train, y_train)\n",
    "y_pred = clf.predict(X_test)\n",
    "t2 = time.time()\n",
    "acc_full = accuracy_score(y_pred, y_test)\n",
    "tdelta = t2 - t1\n",
    "print(\"Accuracy score in baseline SGD model is\", acc_full)\n",
    "print(\"The procedure took\", tdelta, \"seconds\")"
   ]
  },
  {
   "cell_type": "code",
   "execution_count": 13,
   "metadata": {
    "colab": {
     "base_uri": "https://localhost:8080/",
     "height": 51
    },
    "colab_type": "code",
    "id": "XGNFOuaqe0_u",
    "outputId": "18cfbc41-fbe3-42c1-f52c-1f4d98cedbd1"
   },
   "outputs": [
    {
     "name": "stdout",
     "output_type": "stream",
     "text": [
      "Accuracy score in baseline Random Forest with 15 trees is 0.9627428571428571\n",
      "The procedure took 35.92093062400818 seconds\n"
     ]
    }
   ],
   "source": [
    "from sklearn.ensemble import RandomForestClassifier\n",
    "t1 = time.time()\n",
    "clf = RandomForestClassifier(n_estimators=100, max_depth=15,random_state=42)\n",
    "clf.fit(X_train, y_train)\n",
    "y_pred = clf.predict(X_test)\n",
    "t2 = time.time()\n",
    "acc_rf = accuracy_score(y_pred, y_test)\n",
    "tdelta = t2 - t1\n",
    "print(\"Accuracy score in baseline Random Forest with 15 trees is\", acc_rf)\n",
    "print(\"The procedure took\", tdelta, \"seconds\")"
   ]
  },
  {
   "cell_type": "code",
   "execution_count": 14,
   "metadata": {
    "colab": {
     "base_uri": "https://localhost:8080/",
     "height": 51
    },
    "colab_type": "code",
    "id": "5hNQopZxe0_x",
    "outputId": "693cbbf2-8316-42ed-90c5-07b9648f5c3f"
   },
   "outputs": [
    {
     "name": "stdout",
     "output_type": "stream",
     "text": [
      "Accuracy score in baseline Random Forest with 3 trees is 0.7274857142857143\n",
      "The procedure took 9.654370069503784 seconds\n"
     ]
    }
   ],
   "source": [
    "from sklearn.ensemble import RandomForestClassifier\n",
    "t1 = time.time()\n",
    "clf = RandomForestClassifier(n_estimators=100, max_depth=3,random_state=42)\n",
    "clf.fit(X_train, y_train)\n",
    "y_pred = clf.predict(X_test)\n",
    "t2 = time.time()\n",
    "acc_rf = accuracy_score(y_pred, y_test)\n",
    "tdelta = t2 - t1\n",
    "print(\"Accuracy score in baseline Random Forest with 3 trees is\", acc_rf)\n",
    "print(\"The procedure took\", tdelta, \"seconds\")"
   ]
  },
  {
   "cell_type": "markdown",
   "metadata": {
    "colab_type": "text",
    "id": "qJa0tffNe0_0"
   },
   "source": [
    "# Problem 2\n",
    "Apply PCA to extract principle components responsible for 80% of variance. Apply the algorithms above to the components. Report new accuracy score. Make sure to apply PCA to the data before the split into training and testing. Record time of the PCA procedure and record separately time and accuracy of each estimation and report changes relative to Problem 1. "
   ]
  },
  {
   "cell_type": "code",
   "execution_count": 15,
   "metadata": {
    "colab": {
     "base_uri": "https://localhost:8080/",
     "height": 139
    },
    "colab_type": "code",
    "id": "hhfQDHzhe0_1",
    "outputId": "6629f22f-c35f-4116-c413-21cff61feb9f"
   },
   "outputs": [
    {
     "name": "stdout",
     "output_type": "stream",
     "text": [
      "The PCA procedure took 13.868068933486938 seconds\n",
      "The SGD after PCA took 3.1241767406463623 seconds\n",
      "Accuracy score\n"
     ]
    },
    {
     "name": "stderr",
     "output_type": "stream",
     "text": [
      "/usr/local/lib/python3.6/dist-packages/sklearn/linear_model/_stochastic_gradient.py:557: ConvergenceWarning: Maximum number of iteration reached before convergence. Consider increasing max_iter to improve the fit.\n",
      "  ConvergenceWarning)\n"
     ]
    },
    {
     "data": {
      "text/plain": [
       "0.7708"
      ]
     },
     "execution_count": 15,
     "metadata": {
      "tags": []
     },
     "output_type": "execute_result"
    }
   ],
   "source": [
    "from sklearn.decomposition import PCA\n",
    "X = mnist[\"data\"]\n",
    "y = mnist[\"target\"]\n",
    "t1_pca = time.time()\n",
    "pca = PCA(n_components=0.80)\n",
    "X_red = pca.fit_transform(X)\n",
    "t2_pca = time.time()\n",
    "tdelta_pca = t2_pca - t1_pca\n",
    "print(\"The PCA procedure took\", tdelta_pca, \"seconds\")\n",
    "X_red_tr, X_red_test, y_train, y_test = train_test_split(X_red, y, random_state=42)\n",
    "t1 = time.time()\n",
    "clf = linear_model.SGDClassifier(max_iter=20)\n",
    "clf.fit(X_red_tr, y_train)\n",
    "y_pred = clf.predict(X_red_test)\n",
    "t2 = time.time()\n",
    "tdelta = t2 - t1\n",
    "print(\"The SGD after PCA took\", tdelta, \"seconds\")\n",
    "print(\"Accuracy score\")\n",
    "accuracy_score(y_pred, y_test)"
   ]
  },
  {
   "cell_type": "code",
   "execution_count": 20,
   "metadata": {
    "colab": {
     "base_uri": "https://localhost:8080/",
     "height": 68
    },
    "colab_type": "code",
    "id": "LqB0craWe0_3",
    "outputId": "7962d79f-664b-4168-fad2-325f63f8ae10"
   },
   "outputs": [
    {
     "name": "stdout",
     "output_type": "stream",
     "text": [
      "The RF with 15 trees after PCA took 43.31335258483887 seconds\n",
      "Accuracy score\n"
     ]
    },
    {
     "data": {
      "text/plain": [
       "0.9438857142857143"
      ]
     },
     "execution_count": 20,
     "metadata": {
      "tags": []
     },
     "output_type": "execute_result"
    }
   ],
   "source": [
    "clf = RandomForestClassifier(n_estimators=100, max_depth=15,random_state=42)\n",
    "t1 = time.time()\n",
    "clf.fit(X_red_tr, y_train)\n",
    "y_pred = clf.predict(X_red_test)\n",
    "t2 = time.time()\n",
    "tdelta = t2 - t1\n",
    "print(\"The RF with 15 trees after PCA took\", tdelta, \"seconds\")\n",
    "print(\"Accuracy score\")\n",
    "accuracy_score(y_pred, y_test)"
   ]
  },
  {
   "cell_type": "code",
   "execution_count": 19,
   "metadata": {
    "colab": {
     "base_uri": "https://localhost:8080/",
     "height": 68
    },
    "colab_type": "code",
    "id": "bPofsrlXe0_7",
    "outputId": "37c98980-1544-4591-f45a-6d85b6d2cb46"
   },
   "outputs": [
    {
     "name": "stdout",
     "output_type": "stream",
     "text": [
      "The RF with 3 trees after PCA took 13.224504232406616 seconds\n",
      "Accuracy score\n"
     ]
    },
    {
     "data": {
      "text/plain": [
       "0.7295428571428572"
      ]
     },
     "execution_count": 19,
     "metadata": {
      "tags": []
     },
     "output_type": "execute_result"
    }
   ],
   "source": [
    "clf = RandomForestClassifier(n_estimators=100, max_depth=3,random_state=42)\n",
    "t1 = time.time()\n",
    "clf.fit(X_red_tr, y_train)\n",
    "y_pred = clf.predict(X_red_test)\n",
    "t2 = time.time()\n",
    "tdelta = t2 - t1\n",
    "print(\"The RF with 3 trees after PCA took\", tdelta, \"seconds\")\n",
    "print(\"Accuracy score\")\n",
    "accuracy_score(y_pred, y_test)"
   ]
  },
  {
   "cell_type": "markdown",
   "metadata": {
    "colab_type": "text",
    "id": "yae3DB-je0_-"
   },
   "source": [
    "Answer: Applying PCA greatly improve the fit of the random forest, so that it exceeds the fit of the SGD classifier. There is no benefit in terms of time."
   ]
  },
  {
   "cell_type": "code",
   "execution_count": null,
   "metadata": {
    "colab": {},
    "colab_type": "code",
    "id": "IUmBeWLGe0_-",
    "outputId": "1c1d5b8b-e57d-43ce-9b5b-43ed13dada02"
   },
   "outputs": [
    {
     "data": {
      "text/plain": [
       "(52500, 87)"
      ]
     },
     "execution_count": 8,
     "metadata": {
      "tags": []
     },
     "output_type": "execute_result"
    }
   ],
   "source": [
    "X_red_tr.shape"
   ]
  },
  {
   "cell_type": "markdown",
   "metadata": {
    "colab_type": "text",
    "id": "PQSGZFuGe1AB"
   },
   "source": [
    "# Problem 3\n",
    "\n",
    "Load the same data. Extract 1000 observations, use the code below. Try four different PCA alogrithms that would extract 100 principle components. Use the following PCA algorithms: PCA,  Kernel PCA(Linear), Kernel PCA(Sigmoid(gamma=0.001), LLE (10 neighbors), Isomap. Then estimate logistic regression on the training data and test the accuracy using testing data. \n",
    "* What are the accuracy score on testing data you find with each PCA algorithm? \n",
    "* Which PCA algorithm has the highest prediction accuracy?\n",
    "* What is the accuracy of the logistic regression applied to the 1000 obs without applying PCA? "
   ]
  },
  {
   "cell_type": "code",
   "execution_count": 22,
   "metadata": {
    "colab": {},
    "colab_type": "code",
    "id": "Tl2jNxJhe1AC"
   },
   "outputs": [],
   "source": [
    "# Randomly sample 1000 obs, otherwise it will get really slow.\n",
    "np.random.seed(42)\n",
    "smp = np.random.randint(50000, size=1000)\n",
    "X_s = mnist[\"data\"][smp,:]\n",
    "y_s = mnist[\"target\"][smp]\n",
    "X_train_s, X_test_s, y_train_s, y_test_s = train_test_split(X_s, y_s, random_state = 42)"
   ]
  },
  {
   "cell_type": "code",
   "execution_count": null,
   "metadata": {
    "colab": {},
    "colab_type": "code",
    "id": "qnntbgxDe1AE"
   },
   "outputs": [],
   "source": [
    "#X_train_s.shape\n",
    "#X_test_s.shape\n",
    "#y_train_s.shape\n",
    "#y_test_s.shape"
   ]
  },
  {
   "cell_type": "code",
   "execution_count": 23,
   "metadata": {
    "colab": {},
    "colab_type": "code",
    "id": "cseutEh6e1AG"
   },
   "outputs": [],
   "source": [
    "from sklearn.decomposition import KernelPCA\n",
    "from sklearn.manifold import LocallyLinearEmbedding\n",
    "from sklearn.decomposition import PCA\n",
    "from sklearn.manifold import Isomap\n",
    "from sklearn.manifold import TSNE\n",
    "from sklearn.linear_model import LogisticRegression\n",
    "from sklearn.metrics import accuracy_score\n",
    "pca = PCA(n_components=200, random_state=42)\n",
    "lin_pca = KernelPCA(n_components = 200, kernel=\"linear\", fit_inverse_transform=True, n_jobs = -1, random_state=42)\n",
    "sig_pca = KernelPCA(n_components = 2, kernel=\"sigmoid\", gamma=0.1, coef0=1, fit_inverse_transform=True, n_jobs = -1, random_state=42)\n",
    "lle = LocallyLinearEmbedding(n_components=200, n_neighbors=10, random_state=42, n_jobs = -1)\n",
    "isomap = Isomap(n_components=50)\n",
    "log_clf = LogisticRegression(random_state=42, solver='lbfgs',  multi_class='multinomial', n_jobs = -1)"
   ]
  },
  {
   "cell_type": "code",
   "execution_count": 24,
   "metadata": {
    "colab": {
     "base_uri": "https://localhost:8080/",
     "height": 527
    },
    "colab_type": "code",
    "id": "r_iJ9fQNe1AI",
    "outputId": "939503cc-1949-414c-edf0-f3432c0ecf83"
   },
   "outputs": [
    {
     "name": "stdout",
     "output_type": "stream",
     "text": [
      "PCA(copy=True, iterated_power='auto', n_components=200, random_state=42,\n",
      "    svd_solver='auto', tol=0.0, whiten=False)\n",
      "accuracy score using PCA(copy=True, iterated_power='auto', n_components=200, random_state=42,\n",
      "    svd_solver='auto', tol=0.0, whiten=False) PCA method is 0.844\n",
      "The procedure took 1.5418107509613037 seconds\n",
      "KernelPCA(alpha=1.0, coef0=1, copy_X=True, degree=3, eigen_solver='auto',\n",
      "          fit_inverse_transform=True, gamma=None, kernel='linear',\n",
      "          kernel_params=None, max_iter=None, n_components=200, n_jobs=-1,\n",
      "          random_state=42, remove_zero_eig=False, tol=0)\n",
      "accuracy score using KernelPCA(alpha=1.0, coef0=1, copy_X=True, degree=3, eigen_solver='auto',\n",
      "          fit_inverse_transform=True, gamma=None, kernel='linear',\n",
      "          kernel_params=None, max_iter=None, n_components=200, n_jobs=-1,\n",
      "          random_state=42, remove_zero_eig=False, tol=0) PCA method is 0.844\n",
      "The procedure took 1.356335163116455 seconds\n",
      "LocallyLinearEmbedding(eigen_solver='auto', hessian_tol=0.0001, max_iter=100,\n",
      "                       method='standard', modified_tol=1e-12, n_components=200,\n",
      "                       n_jobs=-1, n_neighbors=10, neighbors_algorithm='auto',\n",
      "                       random_state=42, reg=0.001, tol=1e-06)\n",
      "accuracy score using LocallyLinearEmbedding(eigen_solver='auto', hessian_tol=0.0001, max_iter=100,\n",
      "                       method='standard', modified_tol=1e-12, n_components=200,\n",
      "                       n_jobs=-1, n_neighbors=10, neighbors_algorithm='auto',\n",
      "                       random_state=42, reg=0.001, tol=1e-06) PCA method is 0.804\n",
      "The procedure took 2.184567928314209 seconds\n",
      "Isomap(eigen_solver='auto', max_iter=None, metric='minkowski',\n",
      "       metric_params=None, n_components=50, n_jobs=None, n_neighbors=5,\n",
      "       neighbors_algorithm='auto', p=2, path_method='auto', tol=0)\n",
      "accuracy score using Isomap(eigen_solver='auto', max_iter=None, metric='minkowski',\n",
      "       metric_params=None, n_components=50, n_jobs=None, n_neighbors=5,\n",
      "       neighbors_algorithm='auto', p=2, path_method='auto', tol=0) PCA method is 0.812\n",
      "The procedure took 2.811795234680176 seconds\n"
     ]
    }
   ],
   "source": [
    "for c in (pca, lin_pca,  lle, isomap):\n",
    "#for c in (pca,isomap):\n",
    "    t1 = time.time()\n",
    "    print(c)\n",
    "    c.fit(X_train_s)\n",
    "    X_reduced_tr = c.transform(X_train_s)\n",
    "    X_reduced_test = c.transform(X_test_s)\n",
    "    log_clf.fit(X_reduced_tr, y_train_s)\n",
    "    y_pred = log_clf.predict(X_reduced_test)\n",
    "    acc = accuracy_score(y_pred, y_test_s)\n",
    "    print(\"accuracy score using\", c, \"PCA method is\", acc)\n",
    "    t2 = time.time()\n",
    "    tdelta = t2 - t1\n",
    "    print(\"The procedure took\",tdelta , \"seconds\")"
   ]
  },
  {
   "cell_type": "code",
   "execution_count": 25,
   "metadata": {
    "colab": {
     "base_uri": "https://localhost:8080/",
     "height": 102
    },
    "colab_type": "code",
    "id": "veqUK0RIe1AK",
    "outputId": "f985534d-df45-4d67-ceec-1478896c08e5"
   },
   "outputs": [
    {
     "name": "stdout",
     "output_type": "stream",
     "text": [
      "accuracy score using KernelPCA(alpha=1.0, coef0=1, copy_X=True, degree=3, eigen_solver='auto',\n",
      "          fit_inverse_transform=True, gamma=0.1, kernel='sigmoid',\n",
      "          kernel_params=None, max_iter=None, n_components=2, n_jobs=-1,\n",
      "          random_state=42, remove_zero_eig=False, tol=0) PCA method is 0.116\n",
      "The procedure took 1.0573294162750244 seconds\n"
     ]
    }
   ],
   "source": [
    "t1 = time.time()\n",
    "c= sig_pca\n",
    "c.fit(X_train_s)\n",
    "X_reduced_tr = c.fit_transform(X_train_s)\n",
    "X_reduced_test = c.fit_transform(X_test_s)\n",
    "log_clf.fit(X_reduced_tr, y_train_s)\n",
    "y_pred = log_clf.predict(X_reduced_test)\n",
    "acc = accuracy_score(y_pred, y_test_s)\n",
    "print(\"accuracy score using\", c, \"PCA method is\", acc)\n",
    "t2 = time.time()\n",
    "tdelta = t2 - t1\n",
    "print(\"The procedure took\",tdelta , \"seconds\")"
   ]
  },
  {
   "cell_type": "code",
   "execution_count": 26,
   "metadata": {
    "colab": {
     "base_uri": "https://localhost:8080/",
     "height": 34
    },
    "colab_type": "code",
    "id": "RxlXOLGPe1AM",
    "outputId": "241bfa4f-b2ed-4c08-d95f-4bf58ad897d2"
   },
   "outputs": [
    {
     "name": "stdout",
     "output_type": "stream",
     "text": [
      "accuracy score without PCA is 0.832\n"
     ]
    }
   ],
   "source": [
    "log_clf.fit(X_train_s, y_train_s)\n",
    "y_pred = log_clf.predict(X_test_s)\n",
    "acc = accuracy_score(y_pred, y_test_s)\n",
    "print(\"accuracy score without PCA is\", acc)"
   ]
  },
  {
   "cell_type": "markdown",
   "metadata": {
    "colab_type": "text",
    "id": "-DRu_RFRe1AO"
   },
   "source": [
    "# Answer\n",
    "The best PCA methods is  LInear PCA. It achieved accuracy of 0.844. The logistic regression applied withouth PCA had accuracy of 0.832"
   ]
  }
 ],
 "metadata": {
  "colab": {
   "name": "HW 8 Answers.ipynb",
   "provenance": []
  },
  "kernelspec": {
   "display_name": "Python 3",
   "language": "python",
   "name": "python3"
  },
  "language_info": {
   "codemirror_mode": {
    "name": "ipython",
    "version": 3
   },
   "file_extension": ".py",
   "mimetype": "text/x-python",
   "name": "python",
   "nbconvert_exporter": "python",
   "pygments_lexer": "ipython3",
   "version": "3.8.3"
  }
 },
 "nbformat": 4,
 "nbformat_minor": 1
}
