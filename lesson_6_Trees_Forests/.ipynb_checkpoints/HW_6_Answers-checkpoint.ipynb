{
 "cells": [
  {
   "cell_type": "code",
   "execution_count": 49,
   "metadata": {
    "colab": {},
    "colab_type": "code",
    "id": "LmlB8kD_6uhx"
   },
   "outputs": [],
   "source": [
    "# Python ≥3.5 is required\n",
    "import sys\n",
    "assert sys.version_info >= (3, 5)\n",
    "\n",
    "# Scikit-Learn ≥0.20 is required\n",
    "import sklearn\n",
    "assert sklearn.__version__ >= \"0.20\"\n",
    "\n",
    "# Common imports\n",
    "import numpy as np\n",
    "import os\n",
    "\n",
    "# to make this notebook's output stable across runs\n",
    "np.random.seed(42)\n",
    "\n",
    "# To plot pretty figures\n",
    "%matplotlib inline\n",
    "import matplotlib as mpl\n",
    "import matplotlib.pyplot as plt\n",
    "mpl.rc('axes', labelsize=14)\n",
    "mpl.rc('xtick', labelsize=12)\n",
    "mpl.rc('ytick', labelsize=12)\n",
    "\n",
    "# Where to save the figures\n",
    "PROJECT_ROOT_DIR = \".\"\n",
    "CHAPTER_ID = \"ensembles\"\n",
    "IMAGES_PATH = os.path.join(PROJECT_ROOT_DIR, \"images\", CHAPTER_ID)\n",
    "os.makedirs(IMAGES_PATH, exist_ok=True)\n",
    "\n",
    "def save_fig(fig_id, tight_layout=True, fig_extension=\"png\", resolution=300):\n",
    "    path = os.path.join(IMAGES_PATH, fig_id + \".\" + fig_extension)\n",
    "    print(\"Saving figure\", fig_id)\n",
    "    if tight_layout:\n",
    "        plt.tight_layout()\n",
    "    plt.savefig(path, format=fig_extension, dpi=resolution)"
   ]
  },
  {
   "cell_type": "markdown",
   "metadata": {
    "colab_type": "text",
    "id": "7Ws-YfSp6uh3"
   },
   "source": [
    "Prepare the data. Load breast cancer data"
   ]
  },
  {
   "cell_type": "code",
   "execution_count": 50,
   "metadata": {
    "colab": {
     "base_uri": "https://localhost:8080/",
     "height": 513
    },
    "colab_type": "code",
    "id": "fABL-sga6uh4",
    "outputId": "bf8d6c55-78f6-4a7d-f11d-d62a8fce28f8"
   },
   "outputs": [
    {
     "name": "stdout",
     "output_type": "stream",
     "text": [
      "[0 0 0 0 0 0 0 0 0 0 0 0 0 0 0 0 0 0 0 1]\n",
      "['malignant', 'benign']\n",
      "[[1.799e+01 1.038e+01 1.228e+02 1.001e+03 1.184e-01 2.776e-01 3.001e-01\n",
      "  1.471e-01 2.419e-01 7.871e-02 1.095e+00 9.053e-01 8.589e+00 1.534e+02\n",
      "  6.399e-03 4.904e-02 5.373e-02 1.587e-02 3.003e-02 6.193e-03 2.538e+01\n",
      "  1.733e+01 1.846e+02 2.019e+03 1.622e-01 6.656e-01 7.119e-01 2.654e-01\n",
      "  4.601e-01 1.189e-01]\n",
      " [2.057e+01 1.777e+01 1.329e+02 1.326e+03 8.474e-02 7.864e-02 8.690e-02\n",
      "  7.017e-02 1.812e-01 5.667e-02 5.435e-01 7.339e-01 3.398e+00 7.408e+01\n",
      "  5.225e-03 1.308e-02 1.860e-02 1.340e-02 1.389e-02 3.532e-03 2.499e+01\n",
      "  2.341e+01 1.588e+02 1.956e+03 1.238e-01 1.866e-01 2.416e-01 1.860e-01\n",
      "  2.750e-01 8.902e-02]\n",
      " [1.969e+01 2.125e+01 1.300e+02 1.203e+03 1.096e-01 1.599e-01 1.974e-01\n",
      "  1.279e-01 2.069e-01 5.999e-02 7.456e-01 7.869e-01 4.585e+00 9.403e+01\n",
      "  6.150e-03 4.006e-02 3.832e-02 2.058e-02 2.250e-02 4.571e-03 2.357e+01\n",
      "  2.553e+01 1.525e+02 1.709e+03 1.444e-01 4.245e-01 4.504e-01 2.430e-01\n",
      "  3.613e-01 8.758e-02]\n",
      " [1.142e+01 2.038e+01 7.758e+01 3.861e+02 1.425e-01 2.839e-01 2.414e-01\n",
      "  1.052e-01 2.597e-01 9.744e-02 4.956e-01 1.156e+00 3.445e+00 2.723e+01\n",
      "  9.110e-03 7.458e-02 5.661e-02 1.867e-02 5.963e-02 9.208e-03 1.491e+01\n",
      "  2.650e+01 9.887e+01 5.677e+02 2.098e-01 8.663e-01 6.869e-01 2.575e-01\n",
      "  6.638e-01 1.730e-01]\n",
      " [2.029e+01 1.434e+01 1.351e+02 1.297e+03 1.003e-01 1.328e-01 1.980e-01\n",
      "  1.043e-01 1.809e-01 5.883e-02 7.572e-01 7.813e-01 5.438e+00 9.444e+01\n",
      "  1.149e-02 2.461e-02 5.688e-02 1.885e-02 1.756e-02 5.115e-03 2.254e+01\n",
      "  1.667e+01 1.522e+02 1.575e+03 1.374e-01 2.050e-01 4.000e-01 1.625e-01\n",
      "  2.364e-01 7.678e-02]]\n",
      "['mean radius', 'mean texture', 'mean perimeter', 'mean area', 'mean smoothness', 'mean compactness', 'mean concavity', 'mean concave points', 'mean symmetry', 'mean fractal dimension', 'radius error', 'texture error', 'perimeter error', 'area error', 'smoothness error', 'compactness error', 'concavity error', 'concave points error', 'symmetry error', 'fractal dimension error', 'worst radius', 'worst texture', 'worst perimeter', 'worst area', 'worst smoothness', 'worst compactness', 'worst concavity', 'worst concave points', 'worst symmetry', 'worst fractal dimension']\n"
     ]
    }
   ],
   "source": [
    "from sklearn.datasets import load_breast_cancer\n",
    "cancer = load_breast_cancer()\n",
    "print(cancer.target[0:20])\n",
    "print(list(cancer.target_names))\n",
    "print(cancer.data[0:5])\n",
    "print(list(cancer.feature_names))"
   ]
  },
  {
   "cell_type": "markdown",
   "metadata": {
    "colab_type": "text",
    "id": "9wovdj046uh8"
   },
   "source": [
    "# Problem 1. \n",
    "Break the data into training (80%)/testing data(20%). Estimate a tree classification model with maximum depth of 2. Plot the tree and calculate the accuracy rate. Predict target using all features, don't forget to set random numbers to 42. "
   ]
  },
  {
   "cell_type": "code",
   "execution_count": 58,
   "metadata": {
    "colab": {},
    "colab_type": "code",
    "id": "-N51zg8P6uh8"
   },
   "outputs": [],
   "source": [
    "# Starting point\n",
    "import random\n",
    "from sklearn.tree import DecisionTreeClassifier\n",
    "from sklearn import tree\n",
    "import pydotplus\n",
    "X = cancer.data \n",
    "y = cancer.target\n",
    "random.seed(42)\n",
    "import os     "
   ]
  },
  {
   "cell_type": "code",
   "execution_count": 59,
   "metadata": {
    "colab": {
     "base_uri": "https://localhost:8080/",
     "height": 119
    },
    "colab_type": "code",
    "id": "YM3WTVpe6uh_",
    "outputId": "65966b94-efc4-4868-e062-fc380a2b07a5"
   },
   "outputs": [
    {
     "data": {
      "text/plain": [
       "DecisionTreeClassifier(ccp_alpha=0.0, class_weight=None, criterion='gini',\n",
       "                       max_depth=2, max_features=None, max_leaf_nodes=None,\n",
       "                       min_impurity_decrease=0.0, min_impurity_split=None,\n",
       "                       min_samples_leaf=1, min_samples_split=2,\n",
       "                       min_weight_fraction_leaf=0.0, presort='deprecated',\n",
       "                       random_state=42, splitter='best')"
      ]
     },
     "execution_count": 59,
     "metadata": {
      "tags": []
     },
     "output_type": "execute_result"
    }
   ],
   "source": [
    "from sklearn.model_selection import train_test_split\n",
    "X_train, X_test, y_train, y_test = train_test_split(X, y, test_size=0.2, random_state=42)\n",
    "tree_clf = DecisionTreeClassifier(max_depth=2, random_state=42)\n",
    "tree_clf.fit(X_train, y_train)"
   ]
  },
  {
   "cell_type": "code",
   "execution_count": 60,
   "metadata": {
    "colab": {
     "base_uri": "https://localhost:8080/",
     "height": 439
    },
    "colab_type": "code",
    "id": "MSd5tPtJ6uiE",
    "outputId": "d535317a-bed9-4c8e-980b-b10c1aeb1136"
   },
   "outputs": [
    {
     "data": {
      "image/svg+xml": [
       "<?xml version=\"1.0\" encoding=\"UTF-8\" standalone=\"no\"?>\n",
       "<!DOCTYPE svg PUBLIC \"-//W3C//DTD SVG 1.1//EN\"\n",
       " \"http://www.w3.org/Graphics/SVG/1.1/DTD/svg11.dtd\">\n",
       "<!-- Generated by graphviz version 2.40.1 (20161225.0304)\n",
       " -->\n",
       "<!-- Title: Tree Pages: 1 -->\n",
       "<svg width=\"585pt\" height=\"314pt\"\n",
       " viewBox=\"0.00 0.00 584.50 314.00\" xmlns=\"http://www.w3.org/2000/svg\" xmlns:xlink=\"http://www.w3.org/1999/xlink\">\n",
       "<g id=\"graph0\" class=\"graph\" transform=\"scale(1 1) rotate(0) translate(4 310)\">\n",
       "<title>Tree</title>\n",
       "<polygon fill=\"#ffffff\" stroke=\"transparent\" points=\"-4,4 -4,-310 580.5,-310 580.5,4 -4,4\"/>\n",
       "<!-- 0 -->\n",
       "<g id=\"node1\" class=\"node\">\n",
       "<title>0</title>\n",
       "<path fill=\"#aed7f4\" stroke=\"#000000\" d=\"M380,-306C380,-306 188,-306 188,-306 182,-306 176,-300 176,-294 176,-294 176,-235 176,-235 176,-229 182,-223 188,-223 188,-223 380,-223 380,-223 386,-223 392,-229 392,-235 392,-235 392,-294 392,-294 392,-300 386,-306 380,-306\"/>\n",
       "<text text-anchor=\"middle\" x=\"284\" y=\"-290.8\" font-family=\"Helvetica,sans-Serif\" font-size=\"14.00\" fill=\"#000000\">mean concave points &lt;= 0.051</text>\n",
       "<text text-anchor=\"middle\" x=\"284\" y=\"-275.8\" font-family=\"Helvetica,sans-Serif\" font-size=\"14.00\" fill=\"#000000\">gini = 0.467</text>\n",
       "<text text-anchor=\"middle\" x=\"284\" y=\"-260.8\" font-family=\"Helvetica,sans-Serif\" font-size=\"14.00\" fill=\"#000000\">samples = 455</text>\n",
       "<text text-anchor=\"middle\" x=\"284\" y=\"-245.8\" font-family=\"Helvetica,sans-Serif\" font-size=\"14.00\" fill=\"#000000\">value = [169, 286]</text>\n",
       "<text text-anchor=\"middle\" x=\"284\" y=\"-230.8\" font-family=\"Helvetica,sans-Serif\" font-size=\"14.00\" fill=\"#000000\">class = benign</text>\n",
       "</g>\n",
       "<!-- 1 -->\n",
       "<g id=\"node2\" class=\"node\">\n",
       "<title>1</title>\n",
       "<path fill=\"#45a3e7\" stroke=\"#000000\" d=\"M248.5,-187C248.5,-187 117.5,-187 117.5,-187 111.5,-187 105.5,-181 105.5,-175 105.5,-175 105.5,-116 105.5,-116 105.5,-110 111.5,-104 117.5,-104 117.5,-104 248.5,-104 248.5,-104 254.5,-104 260.5,-110 260.5,-116 260.5,-116 260.5,-175 260.5,-175 260.5,-181 254.5,-187 248.5,-187\"/>\n",
       "<text text-anchor=\"middle\" x=\"183\" y=\"-171.8\" font-family=\"Helvetica,sans-Serif\" font-size=\"14.00\" fill=\"#000000\">worst radius &lt;= 16.83</text>\n",
       "<text text-anchor=\"middle\" x=\"183\" y=\"-156.8\" font-family=\"Helvetica,sans-Serif\" font-size=\"14.00\" fill=\"#000000\">gini = 0.107</text>\n",
       "<text text-anchor=\"middle\" x=\"183\" y=\"-141.8\" font-family=\"Helvetica,sans-Serif\" font-size=\"14.00\" fill=\"#000000\">samples = 282</text>\n",
       "<text text-anchor=\"middle\" x=\"183\" y=\"-126.8\" font-family=\"Helvetica,sans-Serif\" font-size=\"14.00\" fill=\"#000000\">value = [16, 266]</text>\n",
       "<text text-anchor=\"middle\" x=\"183\" y=\"-111.8\" font-family=\"Helvetica,sans-Serif\" font-size=\"14.00\" fill=\"#000000\">class = benign</text>\n",
       "</g>\n",
       "<!-- 0&#45;&gt;1 -->\n",
       "<g id=\"edge1\" class=\"edge\">\n",
       "<title>0&#45;&gt;1</title>\n",
       "<path fill=\"none\" stroke=\"#000000\" d=\"M248.6751,-222.8796C241.0311,-213.8733 232.8757,-204.2644 225.0039,-194.9897\"/>\n",
       "<polygon fill=\"#000000\" stroke=\"#000000\" points=\"227.6151,-192.6574 218.4757,-187.2981 222.2782,-197.1871 227.6151,-192.6574\"/>\n",
       "<text text-anchor=\"middle\" x=\"216.437\" y=\"-208.5148\" font-family=\"Helvetica,sans-Serif\" font-size=\"14.00\" fill=\"#000000\">True</text>\n",
       "</g>\n",
       "<!-- 4 -->\n",
       "<g id=\"node5\" class=\"node\">\n",
       "<title>4</title>\n",
       "<path fill=\"#e89153\" stroke=\"#000000\" d=\"M481,-187C481,-187 291,-187 291,-187 285,-187 279,-181 279,-175 279,-175 279,-116 279,-116 279,-110 285,-104 291,-104 291,-104 481,-104 481,-104 487,-104 493,-110 493,-116 493,-116 493,-175 493,-175 493,-181 487,-187 481,-187\"/>\n",
       "<text text-anchor=\"middle\" x=\"386\" y=\"-171.8\" font-family=\"Helvetica,sans-Serif\" font-size=\"14.00\" fill=\"#000000\">worst concave points &lt;= 0.147</text>\n",
       "<text text-anchor=\"middle\" x=\"386\" y=\"-156.8\" font-family=\"Helvetica,sans-Serif\" font-size=\"14.00\" fill=\"#000000\">gini = 0.204</text>\n",
       "<text text-anchor=\"middle\" x=\"386\" y=\"-141.8\" font-family=\"Helvetica,sans-Serif\" font-size=\"14.00\" fill=\"#000000\">samples = 173</text>\n",
       "<text text-anchor=\"middle\" x=\"386\" y=\"-126.8\" font-family=\"Helvetica,sans-Serif\" font-size=\"14.00\" fill=\"#000000\">value = [153, 20]</text>\n",
       "<text text-anchor=\"middle\" x=\"386\" y=\"-111.8\" font-family=\"Helvetica,sans-Serif\" font-size=\"14.00\" fill=\"#000000\">class = malignant</text>\n",
       "</g>\n",
       "<!-- 0&#45;&gt;4 -->\n",
       "<g id=\"edge4\" class=\"edge\">\n",
       "<title>0&#45;&gt;4</title>\n",
       "<path fill=\"none\" stroke=\"#000000\" d=\"M319.6747,-222.8796C327.3943,-213.8733 335.6305,-204.2644 343.5803,-194.9897\"/>\n",
       "<polygon fill=\"#000000\" stroke=\"#000000\" points=\"346.3225,-197.1684 350.1731,-187.2981 341.0077,-192.6129 346.3225,-197.1684\"/>\n",
       "<text text-anchor=\"middle\" x=\"352.0905\" y=\"-208.5244\" font-family=\"Helvetica,sans-Serif\" font-size=\"14.00\" fill=\"#000000\">False</text>\n",
       "</g>\n",
       "<!-- 2 -->\n",
       "<g id=\"node3\" class=\"node\">\n",
       "<title>2</title>\n",
       "<path fill=\"#3d9fe6\" stroke=\"#000000\" d=\"M104,-68C104,-68 12,-68 12,-68 6,-68 0,-62 0,-56 0,-56 0,-12 0,-12 0,-6 6,0 12,0 12,0 104,0 104,0 110,0 116,-6 116,-12 116,-12 116,-56 116,-56 116,-62 110,-68 104,-68\"/>\n",
       "<text text-anchor=\"middle\" x=\"58\" y=\"-52.8\" font-family=\"Helvetica,sans-Serif\" font-size=\"14.00\" fill=\"#000000\">gini = 0.037</text>\n",
       "<text text-anchor=\"middle\" x=\"58\" y=\"-37.8\" font-family=\"Helvetica,sans-Serif\" font-size=\"14.00\" fill=\"#000000\">samples = 263</text>\n",
       "<text text-anchor=\"middle\" x=\"58\" y=\"-22.8\" font-family=\"Helvetica,sans-Serif\" font-size=\"14.00\" fill=\"#000000\">value = [5, 258]</text>\n",
       "<text text-anchor=\"middle\" x=\"58\" y=\"-7.8\" font-family=\"Helvetica,sans-Serif\" font-size=\"14.00\" fill=\"#000000\">class = benign</text>\n",
       "</g>\n",
       "<!-- 1&#45;&gt;2 -->\n",
       "<g id=\"edge2\" class=\"edge\">\n",
       "<title>1&#45;&gt;2</title>\n",
       "<path fill=\"none\" stroke=\"#000000\" d=\"M136.4546,-103.9815C125.8421,-94.5151 114.5718,-84.462 103.9829,-75.0168\"/>\n",
       "<polygon fill=\"#000000\" stroke=\"#000000\" points=\"106.2046,-72.3084 96.4122,-68.2637 101.5449,-77.5322 106.2046,-72.3084\"/>\n",
       "</g>\n",
       "<!-- 3 -->\n",
       "<g id=\"node4\" class=\"node\">\n",
       "<title>3</title>\n",
       "<path fill=\"#f8ddc9\" stroke=\"#000000\" d=\"M251.5,-68C251.5,-68 146.5,-68 146.5,-68 140.5,-68 134.5,-62 134.5,-56 134.5,-56 134.5,-12 134.5,-12 134.5,-6 140.5,0 146.5,0 146.5,0 251.5,0 251.5,0 257.5,0 263.5,-6 263.5,-12 263.5,-12 263.5,-56 263.5,-56 263.5,-62 257.5,-68 251.5,-68\"/>\n",
       "<text text-anchor=\"middle\" x=\"199\" y=\"-52.8\" font-family=\"Helvetica,sans-Serif\" font-size=\"14.00\" fill=\"#000000\">gini = 0.488</text>\n",
       "<text text-anchor=\"middle\" x=\"199\" y=\"-37.8\" font-family=\"Helvetica,sans-Serif\" font-size=\"14.00\" fill=\"#000000\">samples = 19</text>\n",
       "<text text-anchor=\"middle\" x=\"199\" y=\"-22.8\" font-family=\"Helvetica,sans-Serif\" font-size=\"14.00\" fill=\"#000000\">value = [11, 8]</text>\n",
       "<text text-anchor=\"middle\" x=\"199\" y=\"-7.8\" font-family=\"Helvetica,sans-Serif\" font-size=\"14.00\" fill=\"#000000\">class = malignant</text>\n",
       "</g>\n",
       "<!-- 1&#45;&gt;3 -->\n",
       "<g id=\"edge3\" class=\"edge\">\n",
       "<title>1&#45;&gt;3</title>\n",
       "<path fill=\"none\" stroke=\"#000000\" d=\"M188.9578,-103.9815C190.158,-95.618 191.4238,-86.7965 192.6372,-78.3409\"/>\n",
       "<polygon fill=\"#000000\" stroke=\"#000000\" points=\"196.1272,-78.6595 194.0832,-68.2637 189.1982,-77.6651 196.1272,-78.6595\"/>\n",
       "</g>\n",
       "<!-- 5 -->\n",
       "<g id=\"node6\" class=\"node\">\n",
       "<title>5</title>\n",
       "<path fill=\"#f4fafe\" stroke=\"#000000\" d=\"M417,-68C417,-68 325,-68 325,-68 319,-68 313,-62 313,-56 313,-56 313,-12 313,-12 313,-6 319,0 325,0 325,0 417,0 417,0 423,0 429,-6 429,-12 429,-12 429,-56 429,-56 429,-62 423,-68 417,-68\"/>\n",
       "<text text-anchor=\"middle\" x=\"371\" y=\"-52.8\" font-family=\"Helvetica,sans-Serif\" font-size=\"14.00\" fill=\"#000000\">gini = 0.5</text>\n",
       "<text text-anchor=\"middle\" x=\"371\" y=\"-37.8\" font-family=\"Helvetica,sans-Serif\" font-size=\"14.00\" fill=\"#000000\">samples = 35</text>\n",
       "<text text-anchor=\"middle\" x=\"371\" y=\"-22.8\" font-family=\"Helvetica,sans-Serif\" font-size=\"14.00\" fill=\"#000000\">value = [17, 18]</text>\n",
       "<text text-anchor=\"middle\" x=\"371\" y=\"-7.8\" font-family=\"Helvetica,sans-Serif\" font-size=\"14.00\" fill=\"#000000\">class = benign</text>\n",
       "</g>\n",
       "<!-- 4&#45;&gt;5 -->\n",
       "<g id=\"edge5\" class=\"edge\">\n",
       "<title>4&#45;&gt;5</title>\n",
       "<path fill=\"none\" stroke=\"#000000\" d=\"M380.4146,-103.9815C379.2894,-95.618 378.1027,-86.7965 376.9651,-78.3409\"/>\n",
       "<polygon fill=\"#000000\" stroke=\"#000000\" points=\"380.4116,-77.7077 375.6095,-68.2637 373.4741,-78.6411 380.4116,-77.7077\"/>\n",
       "</g>\n",
       "<!-- 6 -->\n",
       "<g id=\"node7\" class=\"node\">\n",
       "<title>6</title>\n",
       "<path fill=\"#e5833c\" stroke=\"#000000\" d=\"M564.5,-68C564.5,-68 459.5,-68 459.5,-68 453.5,-68 447.5,-62 447.5,-56 447.5,-56 447.5,-12 447.5,-12 447.5,-6 453.5,0 459.5,0 459.5,0 564.5,0 564.5,0 570.5,0 576.5,-6 576.5,-12 576.5,-12 576.5,-56 576.5,-56 576.5,-62 570.5,-68 564.5,-68\"/>\n",
       "<text text-anchor=\"middle\" x=\"512\" y=\"-52.8\" font-family=\"Helvetica,sans-Serif\" font-size=\"14.00\" fill=\"#000000\">gini = 0.029</text>\n",
       "<text text-anchor=\"middle\" x=\"512\" y=\"-37.8\" font-family=\"Helvetica,sans-Serif\" font-size=\"14.00\" fill=\"#000000\">samples = 138</text>\n",
       "<text text-anchor=\"middle\" x=\"512\" y=\"-22.8\" font-family=\"Helvetica,sans-Serif\" font-size=\"14.00\" fill=\"#000000\">value = [136, 2]</text>\n",
       "<text text-anchor=\"middle\" x=\"512\" y=\"-7.8\" font-family=\"Helvetica,sans-Serif\" font-size=\"14.00\" fill=\"#000000\">class = malignant</text>\n",
       "</g>\n",
       "<!-- 4&#45;&gt;6 -->\n",
       "<g id=\"edge6\" class=\"edge\">\n",
       "<title>4&#45;&gt;6</title>\n",
       "<path fill=\"none\" stroke=\"#000000\" d=\"M432.9177,-103.9815C443.6152,-94.5151 454.9756,-84.462 465.6492,-75.0168\"/>\n",
       "<polygon fill=\"#000000\" stroke=\"#000000\" points=\"468.1111,-77.5118 473.2805,-68.2637 463.4722,-72.2696 468.1111,-77.5118\"/>\n",
       "</g>\n",
       "</g>\n",
       "</svg>\n"
      ],
      "text/plain": [
       "<graphviz.files.Source at 0x7fef8b00d978>"
      ]
     },
     "execution_count": 60,
     "metadata": {
      "tags": []
     },
     "output_type": "execute_result"
    }
   ],
   "source": [
    "from graphviz import Source\n",
    "from sklearn.tree import export_graphviz\n",
    "\n",
    "export_graphviz(\n",
    "        tree_clf,\n",
    "        out_file=os.path.join(IMAGES_PATH, \"cancer_tree.dot\"),\n",
    "        feature_names=cancer.feature_names,\n",
    "        class_names=cancer.target_names,\n",
    "        rounded=True,\n",
    "        filled=True\n",
    "    )\n",
    "\n",
    "Source.from_file(os.path.join(IMAGES_PATH, \"cancer_tree.dot\"))\n",
    "\n"
   ]
  },
  {
   "cell_type": "code",
   "execution_count": 60,
   "metadata": {
    "colab": {},
    "colab_type": "code",
    "id": "45NAj3FO7w7F"
   },
   "outputs": [],
   "source": []
  },
  {
   "cell_type": "code",
   "execution_count": 61,
   "metadata": {
    "colab": {
     "base_uri": "https://localhost:8080/",
     "height": 34
    },
    "colab_type": "code",
    "id": "IVDoHBpB6uiH",
    "outputId": "2176c131-1ad0-49df-c3e4-1e5b98fac9b6"
   },
   "outputs": [
    {
     "name": "stdout",
     "output_type": "stream",
     "text": [
      "Testing accuracy score for a tree with max depth 2 is 0.9298245614035088\n"
     ]
    }
   ],
   "source": [
    "from sklearn.metrics import accuracy_score\n",
    "y_pred = tree_clf.predict(X_test)\n",
    "acc = accuracy_score(y_test, y_pred)\n",
    "print(\"Testing accuracy score for a tree with max depth 2 is\", acc)"
   ]
  },
  {
   "cell_type": "markdown",
   "metadata": {
    "colab_type": "text",
    "id": "x2cajR426uiJ"
   },
   "source": [
    "Problem 2: \n",
    "Estimate an unrestricted tree on training data and test it on testing data. Find two most important features and create a scatter plot of malignant and benign tumors along the two axes of two most important feature. Hint: For example of a graph look at:\n",
    "https://stackoverflow.com/questions/12487060/matplotlib-color-according-to-class-labels\n",
    "Do you think the data need rotation?"
   ]
  },
  {
   "cell_type": "code",
   "execution_count": 62,
   "metadata": {
    "colab": {
     "base_uri": "https://localhost:8080/",
     "height": 527
    },
    "colab_type": "code",
    "id": "lrTEMjjf6uiK",
    "outputId": "7c665837-b11a-45a0-acfb-3a03151a3f88"
   },
   "outputs": [
    {
     "name": "stdout",
     "output_type": "stream",
     "text": [
      "mean radius 0.0\n",
      "mean texture 0.05847766231107586\n",
      "mean perimeter 0.0\n",
      "mean area 0.0\n",
      "mean smoothness 0.0\n",
      "mean compactness 0.0\n",
      "mean concavity 0.0\n",
      "mean concave points 0.6914195549049809\n",
      "mean symmetry 0.0\n",
      "mean fractal dimension 0.0\n",
      "radius error 0.0\n",
      "texture error 0.0\n",
      "perimeter error 0.0\n",
      "area error 0.011982573676838769\n",
      "smoothness error 0.0012367800829339453\n",
      "compactness error 0.0\n",
      "concavity error 0.0062757755065447375\n",
      "concave points error 0.015930814747382796\n",
      "symmetry error 0.0\n",
      "fractal dimension error 0.018554466715001834\n",
      "worst radius 0.05229926933685694\n",
      "worst texture 0.017445161675930944\n",
      "worst perimeter 0.051493960584869665\n",
      "worst area 0.0\n",
      "worst smoothness 0.009233190446208121\n",
      "worst compactness 0.0\n",
      "worst concavity 0.0\n",
      "worst concave points 0.06565079001137543\n",
      "worst symmetry 0.0\n",
      "worst fractal dimension 0.0\n"
     ]
    }
   ],
   "source": [
    "tree_full = DecisionTreeClassifier(random_state=42)\n",
    "tree_full.fit(X_train, y_train)\n",
    "sorted_feat = tree_full.feature_importances_\n",
    "for name, score in zip(cancer[\"feature_names\"], tree_full.feature_importances_):\n",
    "    print(name, score)"
   ]
  },
  {
   "cell_type": "code",
   "execution_count": 70,
   "metadata": {
    "colab": {},
    "colab_type": "code",
    "id": "2RJwYbVN6uiN"
   },
   "outputs": [],
   "source": [
    "worst_rad = X_train[:,7]\n",
    "worst_conc_per = X_train[:,27]\n",
    "malignancy = y_train"
   ]
  },
  {
   "cell_type": "code",
   "execution_count": 72,
   "metadata": {
    "colab": {
     "base_uri": "https://localhost:8080/",
     "height": 504
    },
    "colab_type": "code",
    "id": "EEwvXRB-6uiP",
    "outputId": "0430ae09-d58f-4fa0-fef3-071fe70172ae"
   },
   "outputs": [
    {
     "data": {
      "image/png": "[encoded data removed]",
      "text/plain": [
       "<Figure size 576x576 with 1 Axes>"
      ]
     },
     "metadata": {
      "needs_background": "light",
      "tags": []
     },
     "output_type": "display_data"
    }
   ],
   "source": [
    "from matplotlib.colors import ListedColormap, LinearSegmentedColormap\n",
    "cmap = ListedColormap(['red','green'])\n",
    "fig = plt.figure(figsize=(8,8))\n",
    "plt.scatter(worst_rad, worst_conc_per, c=y_train, cmap=cmap)\n",
    "plt.xlabel(\"mean concave points\")\n",
    "plt.ylabel(\"Worst Concave Points\")\n",
    "plt.show()"
   ]
  },
  {
   "cell_type": "markdown",
   "metadata": {
    "colab_type": "text",
    "id": "uV0EpxQr6uiR"
   },
   "source": [
    "# Problem 3\n",
    "\n",
    "Report accuracy using top 2 features on the full data from problem 2. Loop over 10000 random number between -1 and 1 (from -3 to 3 radians) to find an optimal rotation angle. Report accuracy improvelemt over unrotated data."
   ]
  },
  {
   "cell_type": "code",
   "execution_count": 77,
   "metadata": {
    "colab": {
     "base_uri": "https://localhost:8080/",
     "height": 538
    },
    "colab_type": "code",
    "id": "tuzP_T_i6uiR",
    "outputId": "a252eb1d-ce14-4c09-87d8-d0657d67eced"
   },
   "outputs": [
    {
     "name": "stdout",
     "output_type": "stream",
     "text": [
      "Unrotated accuracy is 0.9122807017543859\n",
      "best rotated accuracy is 0.9298245614035088 , best angle is -1.0919791501688167\n"
     ]
    },
    {
     "data": {
      "image/png": "[encoded data removed]",
      "text/plain": [
       "<Figure size 576x576 with 1 Axes>"
      ]
     },
     "metadata": {
      "needs_background": "light",
      "tags": []
     },
     "output_type": "display_data"
    }
   ],
   "source": [
    "np.random.seed(42)\n",
    "\n",
    "# Unrotated accuracy \n",
    "Imp_tr = np.column_stack(( X_train[:,7],X_train[:,27]))\n",
    "Imp_test = np.column_stack(( X_test[:,7],X_test[:,27]))\n",
    "tree_clf.fit(Imp_tr, y_train)\n",
    "y_pred = tree_clf.predict(Imp_test)\n",
    "acc_best = accuracy_score(y_test, y_pred)\n",
    "print(f'Unrotated accuracy is {acc_best}')\n",
    "\n",
    "angle_list = np.random.uniform(-3,3,10000)\n",
    "\n",
    "#Imp = np.column_stack((worst_rad, worst_conc_per))\n",
    "\n",
    "\n",
    "for a in range(10000):\n",
    "  angle = angle_list[a]\n",
    "  rotation_matrix = np.array([[np.cos(angle), -np.sin(angle)], [np.sin(angle), np.cos(angle)]])\n",
    "  Xr = Imp_tr.dot(rotation_matrix)\n",
    "  Xr_test = Imp_test.dot(rotation_matrix)\n",
    "  tree_clf.fit(Xr, y_train)\n",
    "  y_pred = tree_clf.predict(Xr_test)\n",
    "  acc_new = accuracy_score(y_test, y_pred)\n",
    "  if acc_new > acc_best:\n",
    "    acc_best = acc_new\n",
    "    angle_best = angle\n",
    "\n",
    "\n",
    "print(f'best rotated accuracy is {acc} , best angle is {angle_best}')\n",
    "  \n",
    "# Create rotaton matrix 2x2 for each point on a 2-dimensional plane\n",
    "rotation_matrix = np.array([[np.cos(angle), -np.sin(angle)], [np.sin(angle), np.cos(angle)]])\n",
    "Xr = Imp.dot(rotation_matrix)\n",
    "colors = ['red','green']\n",
    "fig = plt.figure(figsize=(8,8))\n",
    "plt.scatter(Xr[:,0], Xr[:,1], c=y, cmap=ListedColormap(colors))\n",
    "plt.xlabel(\"Worst Radius\")\n",
    "plt.ylabel(\"Worst Concave Points\")\n",
    "plt.show()"
   ]
  },
  {
   "cell_type": "markdown",
   "metadata": {
    "colab_type": "text",
    "id": "MzJAw5Jo6uiU"
   },
   "source": [
    " # Problem 4\n",
    "In the main data drop variables used in the problem 3. Add instead the rotated variables (substitution). \n",
    "Estimate accuracy score using with a tree classifier with max depth = 2 (Same as in problem 1).  How much did we gain from rotation?"
   ]
  },
  {
   "cell_type": "code",
   "execution_count": 81,
   "metadata": {
    "colab": {},
    "colab_type": "code",
    "id": "cgf1B2F-6uiU"
   },
   "outputs": [],
   "source": [
    "rotation_matrix = np.array([[np.cos(angle_best), -np.sin(angle_best)], [np.sin(angle_best), np.cos(angle_best)]])\n",
    "Xr = Imp_tr.dot(rotation_matrix)\n",
    "Xr_test = Imp_test.dot(rotation_matrix)\n",
    "X_new_tr  = X_train\n",
    "X_new_test = X_test\n",
    "\n",
    "\n",
    "X_new_tr[:,7] = Xr[:,0]\n",
    "X_new_tr[:,27] = Xr[:,1]\n",
    "X_new_test[:,7] = Xr_test[:,0]\n",
    "X_new_test[:,27] = Xr_test[:,1]"
   ]
  },
  {
   "cell_type": "code",
   "execution_count": 84,
   "metadata": {
    "colab": {
     "base_uri": "https://localhost:8080/",
     "height": 51
    },
    "colab_type": "code",
    "id": "7ozr4HSv6uiW",
    "outputId": "5e09f926-9196-4fb0-b8c9-d3e7721bb35d"
   },
   "outputs": [
    {
     "name": "stdout",
     "output_type": "stream",
     "text": [
      "Testing accuracy score for a tree with max depth 2 is 0.956140350877193\n",
      "The accuracy gain from rotation is 0.02631578947368418\n"
     ]
    }
   ],
   "source": [
    "\n",
    "X_train, X_test, y_train, y_test = train_test_split(X, y, test_size=0.2, random_state=42)\n",
    "tree_clf = DecisionTreeClassifier(max_depth=2, random_state=42)\n",
    "tree_clf.fit(X_train, y_train)\n",
    "y_pred = tree_clf.predict(X_test)\n",
    "acc_not_rot = accuracy_score(y_test, y_pred)\n",
    "\n",
    "\n",
    "X_new_tr, X_new_test, y_train, y_test = train_test_split(X_new, y, test_size=0.2, random_state=42)\n",
    "tree_clf = DecisionTreeClassifier(max_depth=2, random_state=42)\n",
    "tree_clf.fit(X_new_tr, y_train)\n",
    "y_pred = tree_clf.predict(X_new_test)\n",
    "acc_r = accuracy_score(y_test, y_pred)\n",
    "print(\"Testing accuracy score for a tree with max depth 2 is\", acc_r)\n",
    "\n",
    "\n",
    "gain_acc = acc_r - acc_not_rot\n",
    "print(\"The accuracy gain from rotation is\", gain_acc)"
   ]
  },
  {
   "cell_type": "markdown",
   "metadata": {
    "colab_type": "text",
    "id": "-1vyoW106uiY"
   },
   "source": [
    "# Problem 5\n",
    "Generate samples of 100,  10,000 and  100,000, moons using the code below. Set random seed at 42. Split data in training and testing sets. Estimate separately Logistic, Random Forest, SVC and the hard voting classifier. What happens to the accuracy score as you increase the number of observations?  Measyre and report the time it takes for each estimation."
   ]
  },
  {
   "cell_type": "code",
   "execution_count": 85,
   "metadata": {
    "colab": {},
    "colab_type": "code",
    "id": "6NtFPJnj6uiZ"
   },
   "outputs": [],
   "source": [
    "from sklearn.model_selection import train_test_split\n",
    "from sklearn.datasets import make_moons\n",
    "X, y = make_moons(n_samples=500, noise=0.30, random_state=42)\n",
    "X_train, X_test, y_train, y_test = train_test_split(X, y, random_state=42)"
   ]
  },
  {
   "cell_type": "code",
   "execution_count": 86,
   "metadata": {
    "colab": {},
    "colab_type": "code",
    "id": "HNqcBWgB6uia"
   },
   "outputs": [],
   "source": [
    "from sklearn.ensemble import RandomForestClassifier\n",
    "from sklearn.ensemble import VotingClassifier\n",
    "from sklearn.linear_model import LogisticRegression\n",
    "from sklearn.svm import SVC\n",
    "\n",
    "log_clf = LogisticRegression(random_state=42)\n",
    "rnd_clf = RandomForestClassifier(random_state=42)\n",
    "svm_clf = SVC(random_state=42)\n",
    "# voting classifier has syntaxis akin to pipeline\n",
    "voting_clf = VotingClassifier(\n",
    "    estimators=[('lr', log_clf), ('rf', rnd_clf), ('svc', svm_clf)],\n",
    "    voting='hard')"
   ]
  },
  {
   "cell_type": "code",
   "execution_count": 89,
   "metadata": {
    "colab": {
     "base_uri": "https://localhost:8080/",
     "height": 272
    },
    "colab_type": "code",
    "id": "mR0dkCgH6uic",
    "outputId": "6cee335c-e8ee-4222-fa28-3ac72958a448"
   },
   "outputs": [
    {
     "name": "stdout",
     "output_type": "stream",
     "text": [
      "100 Observations\n",
      "LogisticRegression 0.96 Time: 0.0045928955078125 \n",
      "RandomForestClassifier 0.92 Time: 0.14564275741577148 \n",
      "SVC 0.92 Time: 0.0022542476654052734 \n",
      "VotingClassifier 0.96 Time: 0.1466691493988037 \n",
      "10000 Observations\n",
      "LogisticRegression 0.8588 Time: 0.017252445220947266 \n",
      "RandomForestClassifier 0.9092 Time: 0.8374078273773193 \n",
      "SVC 0.9184 Time: 0.6378459930419922 \n",
      "VotingClassifier 0.9176 Time: 1.4783236980438232 \n",
      "100000 Observations\n",
      "LogisticRegression 0.85392 Time: 0.12099838256835938 \n",
      "RandomForestClassifier 0.90508 Time: 11.833928108215332 \n",
      "SVC 0.91332 Time: 66.16663932800293 \n",
      "VotingClassifier 0.90976 Time: 78.46461272239685 \n"
     ]
    }
   ],
   "source": [
    "from sklearn.metrics import accuracy_score\n",
    "import time\n",
    "for N in [100,10000,100000]:\n",
    "    X, y = make_moons(n_samples=N, noise=0.30, random_state=42)\n",
    "    X_train, X_test, y_train, y_test = train_test_split(X, y, random_state=42)\n",
    "    print(N, \"Observations\")\n",
    "    for clf in (log_clf, rnd_clf, svm_clf, voting_clf):\n",
    "        start = time.time()\n",
    "        clf.fit(X_train, y_train)\n",
    "        y_pred = clf.predict(X_test)\n",
    "        print(clf.__class__.__name__, accuracy_score(y_test, y_pred), f'Time: {time.time() - start} ')"
   ]
  },
  {
   "cell_type": "markdown",
   "metadata": {
    "colab_type": "text",
    "id": "_PL5kU0c6uie"
   },
   "source": [
    "Answer: As we increase the number of observations the quality of prediction using Logistic goes down, which SVC takes the lead. SVC though is very slow. Though generally Voting classifier performs better it is inferior to SVC with the large number of data points. "
   ]
  },
  {
   "cell_type": "markdown",
   "metadata": {
    "colab_type": "text",
    "id": "yYciDO2M6uie"
   },
   "source": [
    "# Problem 6\n",
    "Generate data using the code provided below. Using testing accuracy as metric, estimate bagging random trees estimator with 200 estimators. Try different numbers of samples: 10, 30, 50, and 200. What is optimal number of samples to be used? <br>\n",
    "BaggingClassifier(\n",
    "    DecisionTreeClassifier(random_state=42), n_estimators=5,\n",
    "    max_samples= ?, bootstrap=True, n_jobs=-1, random_state=42)"
   ]
  },
  {
   "cell_type": "code",
   "execution_count": 110,
   "metadata": {
    "colab": {},
    "colab_type": "code",
    "id": "ooB7zQ5n6uie"
   },
   "outputs": [],
   "source": [
    "X, y = make_moons(n_samples=500, noise=0.40, random_state=42)\n",
    "X_train, X_test, y_train, y_test = train_test_split(X, y, random_state=42)"
   ]
  },
  {
   "cell_type": "code",
   "execution_count": 111,
   "metadata": {
    "colab": {
     "base_uri": "https://localhost:8080/",
     "height": 102
    },
    "colab_type": "code",
    "id": "k1QtrdPg6uig",
    "outputId": "d89a082f-e7b3-4974-8b9a-d669259cd5f9"
   },
   "outputs": [
    {
     "name": "stdout",
     "output_type": "stream",
     "text": [
      "0.76\n",
      "0.832\n",
      "0.848\n",
      "0.832\n",
      "[array([[10.  ,  0.76]]), array([[30.   ,  0.832]]), array([[50.   ,  0.848]]), array([[200.   ,   0.832]])]\n"
     ]
    }
   ],
   "source": [
    "from sklearn.ensemble import BaggingClassifier\n",
    "from sklearn.tree import DecisionTreeClassifier\n",
    "from sklearn.metrics import accuracy_score\n",
    "import numpy as np\n",
    "def bagtree(S):\n",
    "    bag_clf = BaggingClassifier(\n",
    "        DecisionTreeClassifier(random_state=42), n_estimators=200,\n",
    "        max_samples=S, bootstrap=True, n_jobs=-1, random_state=42)\n",
    "    bag_clf.fit(X_train, y_train)\n",
    "    y_pred = bag_clf.predict(X_test)\n",
    "    return accuracy_score(y_test, y_pred)\n",
    "\n",
    "\n",
    "bag_acc = []\n",
    "\n",
    "for i in [10, 30, 50,200]:\n",
    "    acc = bagtree(i)\n",
    "    vec2 = np.column_stack((i,acc))\n",
    "    bag_acc.append(vec2)\n",
    "    print(acc)\n",
    "\n",
    "print(bag_acc) "
   ]
  },
  {
   "cell_type": "markdown",
   "metadata": {
    "colab_type": "text",
    "id": "7hYbU1Ho6uii"
   },
   "source": [
    "# Answer\n",
    "10 samples is clearly not enough, but there is little difference between 100, 300 and 1000 samples."
   ]
  },
  {
   "cell_type": "markdown",
   "metadata": {
    "colab_type": "text",
    "id": "TwXPndeq6uii"
   },
   "source": [
    "# Problem 7\n",
    "Find optimal learning rate, number of estimators and maximum depth using GradientBoostingClassifier, and Randomize grid search. Set a grid: learning rate from 0.01 to 3, number of estimators from 1 to 20, and maximum depth from 1 to 10. Try 300 iterations. Example for randomizeSearch:\n",
    "\n",
    "rnd_search = RandomizedSearchCV(forest_reg, param_distributions=param_distribs,\n",
    "                                n_iter=?, cv=5, scoring='neg_mean_squared_error', random_state=42)\n",
    "gbrt = GradientBoostingClassifier(max_depth=?, n_estimators=?, learning_rate = ?, random_state=42)  \n",
    "\n",
    "Which estimator was the best? What was the accuracy of the best estimator?\n"
   ]
  },
  {
   "cell_type": "code",
   "execution_count": 114,
   "metadata": {
    "colab": {},
    "colab_type": "code",
    "id": "CrPaJYJh6uii"
   },
   "outputs": [],
   "source": [
    "X, y = make_moons(n_samples=2000, noise=0.40, random_state=42)"
   ]
  },
  {
   "cell_type": "code",
   "execution_count": 120,
   "metadata": {
    "colab": {
     "base_uri": "https://localhost:8080/",
     "height": 204
    },
    "colab_type": "code",
    "id": "G339QG_U6uik",
    "outputId": "912748be-cad2-41d8-c15b-542672f21c19"
   },
   "outputs": [
    {
     "name": "stdout",
     "output_type": "stream",
     "text": [
      "Best estimator GradientBoostingClassifier(ccp_alpha=0.0, criterion='friedman_mse', init=None,\n",
      "                           learning_rate=1.0452137440800489, loss='deviance',\n",
      "                           max_depth=1, max_features=None, max_leaf_nodes=None,\n",
      "                           min_impurity_decrease=0.0, min_impurity_split=None,\n",
      "                           min_samples_leaf=1, min_samples_split=2,\n",
      "                           min_weight_fraction_leaf=0.0, n_estimators=19,\n",
      "                           n_iter_no_change=None, presort='deprecated',\n",
      "                           random_state=42, subsample=1.0, tol=0.0001,\n",
      "                           validation_fraction=0.1, verbose=0,\n",
      "                           warm_start=False)\n",
      "Produced accuracy 0.8640000000000001\n"
     ]
    }
   ],
   "source": [
    "import random\n",
    "\n",
    "from sklearn.ensemble import GradientBoostingClassifier\n",
    "from sklearn.model_selection import RandomizedSearchCV\n",
    "from scipy.stats import randint\n",
    "from scipy.stats import uniform\n",
    "\n",
    "\n",
    "grad = GradientBoostingClassifier(random_state=42)\n",
    "param_distribs = {\n",
    "        'n_estimators': randint(low=1, high=20),\n",
    "        'learning_rate': uniform(0.01,3),\n",
    "        'max_depth': randint(low=1, high=10),\n",
    "    }\n",
    "rnd_search = RandomizedSearchCV(grad, param_distributions=param_distribs, n_iter=300, cv=5, scoring='neg_mean_squared_error', random_state=42)\n",
    "rnd_search.fit(X, y)\n",
    "from sklearn.model_selection import cross_val_score\n",
    "bestest = rnd_search.best_estimator_\n",
    "scores = np.mean(cross_val_score(bestest, X, y, cv=5))\n",
    "print(\"Best estimator\", bestest)\n",
    "print(\"Produced accuracy\",scores)"
   ]
  },
  {
   "cell_type": "code",
   "execution_count": null,
   "metadata": {
    "colab": {},
    "colab_type": "code",
    "id": "Jih-wiEA6uim"
   },
   "outputs": [],
   "source": []
  }
 ],
 "metadata": {
  "colab": {
   "collapsed_sections": [],
   "name": "HW 7 Answers.ipynb",
   "provenance": []
  },
  "kernelspec": {
   "display_name": "Python 3",
   "language": "python",
   "name": "python3"
  },
  "language_info": {
   "codemirror_mode": {
    "name": "ipython",
    "version": 3
   },
   "file_extension": ".py",
   "mimetype": "text/x-python",
   "name": "python",
   "nbconvert_exporter": "python",
   "pygments_lexer": "ipython3",
   "version": "3.8.3"
  }
 },
 "nbformat": 4,
 "nbformat_minor": 1
}
