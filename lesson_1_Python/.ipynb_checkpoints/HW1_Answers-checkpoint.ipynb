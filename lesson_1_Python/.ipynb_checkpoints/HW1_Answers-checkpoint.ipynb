{
 "cells": [
  {
   "cell_type": "markdown",
   "metadata": {
    "colab_type": "text",
    "id": "7iRXVONVqECs"
   },
   "source": [
    "1. Set variable total = 0. Loop through the numbers [1:20], (not including 20). If a number is divisible by 3: <br>\n",
    "  a. Calculate the cube of this number ($x^3$) <br>\n",
    "  b. Add the cube of this number to the total. <br>\n",
    "Print the total after you looped though the numbers as your answer.\n"
   ]
  },
  {
   "cell_type": "code",
   "execution_count": null,
   "metadata": {
    "pycharm": {
     "name": "#%%\n"
    }
   },
   "outputs": [],
   "source": [
    "total = 0\n",
    "for x in range(1,20):\n",
    "  if x%3 == 0:\n",
    "    total += x^3\n",
    "print(f'The sum of cubed numbers between 1 and 20 that are divisible by 3 is {total}')"
   ]
  },
  {
   "cell_type": "markdown",
   "metadata": {
    "colab_type": "text",
    "id": "HzFTIJtIrzIO"
   },
   "source": [
    "2. Consider a list of Michigan cities: \n",
    "list_a= ['Detroit','Grand Rapids','Warren','Sterling Heights','Lansing','Ann Arbor', 'Flint','Dearborn','Livonia','Canton','Westland','Troy','Farmington Hills','Macomb'] <br>\n",
    "Use list to:<br>\n",
    "a. Calcualte the total number of cities<br>\n",
    "b. Convert the city names to the lower case<br>\n",
    "c. Calcualte the number of cities with the letter 'r' <br>\n",
    "Report your results"
   ]
  },
  {
   "cell_type": "code",
   "execution_count": null,
   "metadata": {
    "pycharm": {
     "name": "#%%\n"
    }
   },
   "outputs": [],
   "source": [
    "list_a = ['Detroit','Grand Rapids','Warren','Sterling Heights','Lansing','Ann Arbor', 'Flint','Dearborn','Livonia','Canton','Westland','Troy','Farmington Hills',\n",
    "        'Macomb']\n",
    "l = len(list_a)\n",
    "r_count = 0\n",
    "for i in range(0,l):\n",
    "  if 'r' in list_a[i].lower():\n",
    "    r_count += 1\n",
    "print(f'The list has {l} cities, and {r_count} of these cities has the letter 'r' in their names')\n"
   ]
  },
  {
   "cell_type": "markdown",
   "metadata": {
    "colab_type": "text",
    "id": "VjIdOnPDtmzp"
   },
   "source": [
    "3. Consider a second list of cities: list_b = ['Detroit','Washington','Warren','Salmon Heights','Lansing','Nome', 'Flint','Dearborn','Santa Fe','Canton','Westland','Troy','Farmington Hills','Amherst', 'Rehovot', 'Tartu']. <br>\n",
    "Calculate: <br>\n",
    "a. The number of cities that are in both list_a and list_b <br>\n",
    "b. The number of cities that in the the list_b, but NOT in list a <br>\n",
    "\n"
   ]
  },
  {
   "cell_type": "code",
   "execution_count": null,
   "metadata": {
    "pycharm": {
     "name": "#%%\n"
    }
   },
   "outputs": [],
   "source": [
    "list_b =  ['Detroit','Washington','Warren','Salmon Heights','Lansing','Nome', 'Flint','Dearborn','Santa Fe','Canton','Westland','Troy','Farmington Hills',\n",
    "           'Amherst', 'Rehovot', 'Tartu']\n",
    "both = 0\n",
    "only_b = 0\n",
    "for b in list_b:\n",
    "  if b not in list_a:\n",
    "    only_b += 1\n",
    "  for a in list_a:\n",
    "    if a == b :\n",
    "      both += 1\n",
    "\n",
    "\n",
    "print(f'There are {both} elements in both lists a and b. There {only_b} elements in only b list.')\n",
    "\n",
    "\n"
   ]
  },
  {
   "cell_type": "markdown",
   "metadata": {
    "colab_type": "text",
    "id": "iCnSWDWgwlOV"
   },
   "source": [
    "4. Use the list_a defined in the previous problem. Report first, last, the longest and shortest city in the list. "
   ]
  },
  {
   "cell_type": "code",
   "execution_count": null,
   "metadata": {
    "pycharm": {
     "name": "#%%\n"
    }
   },
   "outputs": [],
   "source": [
    "print(f'First element {list_a[0]}, last element {list_a[-1]}, longest city {max(list_a,key=len)}, shortesrt city longest city {min(list_a,key=len)}.')"
   ]
  },
  {
   "cell_type": "markdown",
   "metadata": {
    "colab_type": "text",
    "id": "iqP9jeWS0siV"
   },
   "source": [
    "5. Create a merged list between list_a and list_b keep unique city names. Sort the list unique names in the alphabetical order. Print this list of unique names."
   ]
  },
  {
   "cell_type": "code",
   "execution_count": null,
   "metadata": {
    "pycharm": {
     "name": "#%%\n"
    }
   },
   "outputs": [],
   "source": [
    "merged_list = list_a\n",
    "for b in list_b:\n",
    "  if b not in merged_list:\n",
    "    merged_list.append(b)\n",
    "merged_list.sort()\n",
    "print(f'Merged list is {merged_list}')\n"
   ]
  },
  {
   "cell_type": "markdown",
   "metadata": {
    "colab_type": "text",
    "id": "VISeRxHt19R1"
   },
   "source": [
    "6. Create 3 numpy arrays:\n",
    "- array1 = [0:20]\n",
    "- array2 = [100:120]\n",
    "- array2 = [-10:10]\n",
    "Stack the arrays vertically in one matrix and print it."
   ]
  },
  {
   "cell_type": "code",
   "execution_count": null,
   "metadata": {
    "pycharm": {
     "name": "#%%\n"
    }
   },
   "outputs": [],
   "source": [
    "import numpy as np\n",
    "array1 = np.arange(0, 20)\n",
    "array2 = np.arange(100, 120)\n",
    "array3 = np.arange(-10, 10)\n",
    "mat = np.vstack((array1, array2, array3))\n",
    "print(f'Stacked matrix is {mat}')"
   ]
  },
  {
   "cell_type": "markdown",
   "metadata": {
    "colab_type": "text",
    "id": "2HPK1QU8G2ST"
   },
   "source": [
    "7. Create a function that checks if a number is a prime. It has the following form <br>\n",
    "```\n",
    "def IsPrime(n):\n",
    "...\n",
    "if prime:\n",
    "  return True\n",
    "else return False\n",
    "```\n",
    "Test the function on numbers 7 and 9\n"
   ]
  },
  {
   "cell_type": "code",
   "execution_count": null,
   "metadata": {
    "pycharm": {
     "name": "#%%\n"
    }
   },
   "outputs": [],
   "source": [
    "def IsPrime(n):\n",
    "  for i in range(2,n):\n",
    "    if n%i == 0:\n",
    "      return False\n",
    "  return True\n",
    "\n",
    "print(f'Is 7 a prime: {IsPrime(7)}. Is 9 a prime: {IsPrime(9)}.')"
   ]
  },
  {
   "cell_type": "markdown",
   "metadata": {
    "colab_type": "text",
    "id": "s8o_GyLNH1Ds"
   },
   "source": [
    "8. Create a function that takes a number as an argument and then returns the nearest prime number to the entered number. The prime number can be smaller or larger than the entered number. The function should return the entered number and prime number. <br>\n",
    "You can reuse the function IsPrime() you specified in the previous problem. <br>\n",
    "Test your program on number 7, 24 and 366, 134124 and report the results."
   ]
  },
  {
   "cell_type": "code",
   "execution_count": 68,
   "metadata": {
    "colab": {
     "base_uri": "https://localhost:8080/",
     "height": 34
    },
    "colab_type": "code",
    "id": "ZRUKiyQeHvXH",
    "outputId": "31602b8e-75cf-431c-e36a-ea2e2d869814",
    "pycharm": {
     "name": "#%%\n"
    }
   },
   "outputs": [
    {
     "name": "stdout",
     "output_type": "stream",
     "text": [
      "Calculate nearest primes to the numbers --  7:7, 24:23,  366:367, 134124:134129\n"
     ]
    }
   ],
   "source": [
    "def NearPrime(n):\n",
    "  i = 0\n",
    "  while True:\n",
    "    if IsPrime(n+i):\n",
    "      return n+i\n",
    "    if IsPrime(n-i):\n",
    "      return n-i\n",
    "    i += 1\n",
    "\n",
    "print(f'Calculate nearest primes to the numbers --  7:{NearPrime(7)}, 24:{NearPrime(24)},  366:{NearPrime(366)}, 134124:{NearPrime(134124)}')\n",
    "\n",
    "\n",
    "\n"
   ]
  },
  {
   "cell_type": "code",
   "execution_count": null,
   "metadata": {
    "pycharm": {
     "name": "#%%\n"
    }
   },
   "outputs": [],
   "source": []
  },
  {
   "cell_type": "code",
   "execution_count": null,
   "metadata": {
    "pycharm": {
     "name": "#%%\n"
    }
   },
   "outputs": [],
   "source": []
  }
 ],
 "metadata": {
  "colab": {
   "collapsed_sections": [],
   "name": "HW1_Answers.ipynb",
   "provenance": []
  },
  "kernelspec": {
   "display_name": "Python 3",
   "language": "python",
   "name": "python3"
  },
  "language_info": {
   "codemirror_mode": {
    "name": "ipython",
    "version": 3
   },
   "file_extension": ".py",
   "mimetype": "text/x-python",
   "name": "python",
   "nbconvert_exporter": "python",
   "pygments_lexer": "ipython3",
   "version": "3.8.3"
  },
  "pycharm": {
   "stem_cell": {
    "cell_type": "raw",
    "metadata": {
     "collapsed": false
    },
    "source": []
   }
  }
 },
 "nbformat": 4,
 "nbformat_minor": 1
}
