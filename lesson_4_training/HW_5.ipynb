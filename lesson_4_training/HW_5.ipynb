{
  "nbformat": 4,
  "nbformat_minor": 0,
  "metadata": {
    "kernelspec": {
      "display_name": "Python 3",
      "language": "python",
      "name": "python3"
    },
    "language_info": {
      "codemirror_mode": {
        "name": "ipython",
        "version": 3
      },
      "file_extension": ".py",
      "mimetype": "text/x-python",
      "name": "python",
      "nbconvert_exporter": "python",
      "pygments_lexer": "ipython3",
      "version": "3.7.0"
    },
    "colab": {
      "name": "HW 5.ipynb",
      "provenance": [],
      "collapsed_sections": []
    }
  },
  "cells": [
    {
      "cell_type": "markdown",
      "metadata": {
        "id": "VKFOucyKzOdX",
        "colab_type": "text"
      },
      "source": [
        "# Problem 1:\n",
        "Set random seed = 42. Generate a sample of 500 observations of the following random variables: <br>\n",
        "$X = 2 + u$, where $u$ is the random float in the range (0,2). <br>\n",
        "$Z = 3 - e$, where $e$ is the random number drawn from the standard normal distribution. <br>\n",
        "$Y = 5 + 2X + Z + o$, where $o$ is the random noise in the range (0,1). <br>\n",
        "Estimate the model: $Y = 5 + 2X + Z + o$\n"
      ]
    },
    {
      "cell_type": "code",
      "metadata": {
        "id": "DTdOjdWczOdZ",
        "colab_type": "code",
        "colab": {}
      },
      "source": [
        "np.random.seed(42)"
      ],
      "execution_count": 9,
      "outputs": []
    },
    {
      "cell_type": "code",
      "metadata": {
        "id": "NGky7JiFBexs",
        "colab_type": "code",
        "colab": {}
      },
      "source": [
        ""
      ],
      "execution_count": 9,
      "outputs": []
    },
    {
      "cell_type": "code",
      "metadata": {
        "id": "wAW2uqvwzOdf",
        "colab_type": "code",
        "colab": {}
      },
      "source": [
        ""
      ],
      "execution_count": 53,
      "outputs": []
    },
    {
      "cell_type": "markdown",
      "metadata": {
        "id": "_KzKUZmEzOdj",
        "colab_type": "text"
      },
      "source": [
        "# Problem 2: \n",
        "Estimate the model from problem 1 Batch Gradient Descent (BGD) with eta = 0.3, 100 iterations, and 300 observations.\n",
        "Set starting theta at random number with mean 3 and sd = 1. <br>\n",
        "Print a graph of MSE and iterations.\n",
        " What do you think is the problem? Is MSE is getting smaller or bigger with each iteration?"
      ]
    },
    {
      "cell_type": "code",
      "metadata": {
        "id": "q5lK7nOpzOdk",
        "colab_type": "code",
        "colab": {}
      },
      "source": [
        ""
      ],
      "execution_count": 53,
      "outputs": []
    },
    {
      "cell_type": "markdown",
      "metadata": {
        "id": "XQGPn6D-zOdn",
        "colab_type": "text"
      },
      "source": [
        "The fit is getting worse as we iterate."
      ]
    },
    {
      "cell_type": "markdown",
      "metadata": {
        "id": "0ovBklhVzOdo",
        "colab_type": "text"
      },
      "source": [
        "# Problem 3 \n",
        "Let's try two ways to fix the problem. <br>\n",
        "3.A Find smaller eta to reduce MSE. Search from 0.001 to 0.1, using a step of 0.001. What is the optimal eta? What is the MSE with the optimal eta? Plot the graph of eta and MSE around the optimal eta (+5,-5 observations). \n"
      ]
    },
    {
      "cell_type": "code",
      "metadata": {
        "id": "X_4eRlag9KYB",
        "colab_type": "code",
        "colab": {}
      },
      "source": [
        "np.random.seed(42)\n"
      ],
      "execution_count": 54,
      "outputs": []
    },
    {
      "cell_type": "code",
      "metadata": {
        "id": "eW4arJKdzOdt",
        "colab_type": "code",
        "colab": {}
      },
      "source": [
        ""
      ],
      "execution_count": 54,
      "outputs": []
    },
    {
      "cell_type": "code",
      "metadata": {
        "id": "xpc9_nniXhrv",
        "colab_type": "code",
        "colab": {}
      },
      "source": [
        ""
      ],
      "execution_count": 54,
      "outputs": []
    },
    {
      "cell_type": "markdown",
      "metadata": {
        "id": "S32XJoT0zOdv",
        "colab_type": "text"
      },
      "source": [
        "# Problem 4:\n",
        "Let's try to fix the model fit in Problem 2 by using optimal early stopping. At what iteration should we stop to minimize MSE? What is the value of MSE at this step? Compare our MSE with the one from Problem 3.  "
      ]
    },
    {
      "cell_type": "code",
      "metadata": {
        "id": "3ESXhLhMzOdw",
        "colab_type": "code",
        "colab": {}
      },
      "source": [
        "np.random.seed(42)\n",
        "\n"
      ],
      "execution_count": 55,
      "outputs": []
    },
    {
      "cell_type": "code",
      "metadata": {
        "id": "O-SYONC8zOdy",
        "colab_type": "code",
        "colab": {}
      },
      "source": [
        ""
      ],
      "execution_count": 55,
      "outputs": []
    },
    {
      "cell_type": "markdown",
      "metadata": {
        "id": "VZP0bwrPzOd1",
        "colab_type": "text"
      },
      "source": [
        "# Problem 5:\n",
        "\n",
        "To solve this problem we need to learn how to time the how long it takes to run our code:"
      ]
    },
    {
      "cell_type": "code",
      "metadata": {
        "id": "JZnjulfCzOd2",
        "colab_type": "code",
        "colab": {}
      },
      "source": [
        ""
      ],
      "execution_count": 55,
      "outputs": []
    },
    {
      "cell_type": "markdown",
      "metadata": {
        "id": "QhSnTaNuzOd4",
        "colab_type": "text"
      },
      "source": [
        "Create create Y, X, and Z samples from problem 1 with 100,000,000 observations (100 million). Measure how long does it take to estimate linear regression of Y on X and Z using: Stochastic Gradient Descent, Batch Gradient Descent, Linear Regression from sklearn, and Linear regression estimated using matrix multiplication $$\\hat{\\theta} = (\\pmb{X}^T \\cdot \\pmb{X})^{-1} \\cdot \\pmb{X}^T \\cdot \\pmb{y}$$, and Linear regression estimated preudo-inverse. For Batch Gradient Descent use 1000 iterations and eta = 0.01. For Stochastic Gradient Descent use 5 iterations and eta = 0.01. Use SGDRegressior imported from sklearn.model.\n",
        "\n",
        "For each estimation import **MSE** and **time**"
      ]
    },
    {
      "cell_type": "code",
      "metadata": {
        "id": "umHo4KqtzOd4",
        "colab_type": "code",
        "colab": {}
      },
      "source": [
        "import numpy as np\n",
        "np.random.seed(42)\n",
        "N = 100000000\n"
      ],
      "execution_count": 56,
      "outputs": []
    },
    {
      "cell_type": "code",
      "metadata": {
        "id": "8qd4avSDzOd6",
        "colab_type": "code",
        "colab": {}
      },
      "source": [
        "\n",
        "from sklearn.linear_model import LinearRegression \n"
      ],
      "execution_count": 57,
      "outputs": []
    },
    {
      "cell_type": "code",
      "metadata": {
        "id": "-UadqbuZzOd7",
        "colab_type": "code",
        "colab": {}
      },
      "source": [
        "np.random.seed(42)\n"
      ],
      "execution_count": 58,
      "outputs": []
    },
    {
      "cell_type": "code",
      "metadata": {
        "id": "MOu5Zx59zOd9",
        "colab_type": "code",
        "colab": {}
      },
      "source": [
        ""
      ],
      "execution_count": 58,
      "outputs": []
    },
    {
      "cell_type": "code",
      "metadata": {
        "id": "Cpd0rakAzOd_",
        "colab_type": "code",
        "colab": {}
      },
      "source": [
        ""
      ],
      "execution_count": 58,
      "outputs": []
    },
    {
      "cell_type": "code",
      "metadata": {
        "id": "EfUx-157zOeA",
        "colab_type": "code",
        "colab": {}
      },
      "source": [
        "from sklearn.linear_model import SGDRegressor\n"
      ],
      "execution_count": 59,
      "outputs": []
    },
    {
      "cell_type": "markdown",
      "metadata": {
        "id": "bJzlwYlCzOeD",
        "colab_type": "text"
      },
      "source": [
        "# Problem 6\n",
        "Recreate a X,Y data from problem 1 using 500 observations. Create a 25-degree polynomial for X and scale the data using standard scaler. Estimate the regression model predicting Y via Ridge regression. Calculate MSE (average 'neg_mean_squared_error') using cross-validation with cv = 3. Find optimal alpha by looping from 0.0001 to 1 using step size 0.0001."
      ]
    },
    {
      "cell_type": "code",
      "metadata": {
        "id": "1KDDgdA1zOeD",
        "colab_type": "code",
        "colab": {}
      },
      "source": [
        "import numpy as np\n",
        "np.random.seed(42)\n"
      ],
      "execution_count": 60,
      "outputs": []
    },
    {
      "cell_type": "code",
      "metadata": {
        "id": "S9eUvNluzOeF",
        "colab_type": "code",
        "colab": {}
      },
      "source": [
        ""
      ],
      "execution_count": 60,
      "outputs": []
    },
    {
      "cell_type": "code",
      "metadata": {
        "id": "NXdGbzlpzOeG",
        "colab_type": "code",
        "colab": {}
      },
      "source": [
        ""
      ],
      "execution_count": 60,
      "outputs": []
    },
    {
      "cell_type": "code",
      "metadata": {
        "id": "ojWqgmTwwxKm",
        "colab_type": "code",
        "colab": {}
      },
      "source": [
        ""
      ],
      "execution_count": 60,
      "outputs": []
    },
    {
      "cell_type": "markdown",
      "metadata": {
        "id": "GCFfHfwPzOeI",
        "colab_type": "text"
      },
      "source": [
        "# Problem 7: \n",
        "Repeat the problem 6 using Lasso regression. In addition to MSE and alpha, report how many coefficients are equal to zero in the optimal model.    "
      ]
    },
    {
      "cell_type": "code",
      "metadata": {
        "id": "mB5U8ReCzOeI",
        "colab_type": "code",
        "colab": {}
      },
      "source": [
        ""
      ],
      "execution_count": 60,
      "outputs": []
    },
    {
      "cell_type": "code",
      "metadata": {
        "id": "AUM-0TyWzOeJ",
        "colab_type": "code",
        "colab": {}
      },
      "source": [
        ""
      ],
      "execution_count": 60,
      "outputs": []
    },
    {
      "cell_type": "code",
      "metadata": {
        "id": "5CxkVLCIzOeK",
        "colab_type": "code",
        "colab": {}
      },
      "source": [
        ""
      ],
      "execution_count": 60,
      "outputs": []
    },
    {
      "cell_type": "code",
      "metadata": {
        "id": "AQp67KD3zOeM",
        "colab_type": "code",
        "colab": {}
      },
      "source": [
        ""
      ],
      "execution_count": null,
      "outputs": []
    },
    {
      "cell_type": "code",
      "metadata": {
        "id": "rp-lsnenzOeO",
        "colab_type": "code",
        "colab": {}
      },
      "source": [
        ""
      ],
      "execution_count": null,
      "outputs": []
    }
  ]
}